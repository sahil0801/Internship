{
 "cells": [
  {
   "cell_type": "markdown",
   "metadata": {},
   "source": [
    "Importing Libraries"
   ]
  },
  {
   "cell_type": "code",
   "execution_count": 1,
   "metadata": {},
   "outputs": [],
   "source": [
    "import  requests\n",
    "from  bs4 import BeautifulSoup"
   ]
  },
  {
   "cell_type": "markdown",
   "metadata": {},
   "source": [
    "Creating required lists"
   ]
  },
  {
   "cell_type": "code",
   "execution_count": 2,
   "metadata": {},
   "outputs": [],
   "source": [
    "url=[]\n",
    "post=[]\n",
    "company=[]\n",
    "location=[]\n",
    "time=[]"
   ]
  },
  {
   "cell_type": "markdown",
   "metadata": {},
   "source": [
    "Creating list of URL's of the first 5 pages of monster.com for Software Developer job"
   ]
  },
  {
   "cell_type": "code",
   "execution_count": 3,
   "metadata": {},
   "outputs": [],
   "source": [
    "a=1"
   ]
  },
  {
   "cell_type": "code",
   "execution_count": 4,
   "metadata": {},
   "outputs": [
    {
     "data": {
      "text/plain": [
       "['https://www.monster.com/jobs/search/?q=Software-Developer&intcid=skr_navigation_nhpso_searchMainPrefill&stpage=1&page=1',\n",
       " 'https://www.monster.com/jobs/search/?q=Software-Developer&intcid=skr_navigation_nhpso_searchMainPrefill&stpage=1&page=2',\n",
       " 'https://www.monster.com/jobs/search/?q=Software-Developer&intcid=skr_navigation_nhpso_searchMainPrefill&stpage=1&page=3',\n",
       " 'https://www.monster.com/jobs/search/?q=Software-Developer&intcid=skr_navigation_nhpso_searchMainPrefill&stpage=1&page=4',\n",
       " 'https://www.monster.com/jobs/search/?q=Software-Developer&intcid=skr_navigation_nhpso_searchMainPrefill&stpage=1&page=5']"
      ]
     },
     "execution_count": 4,
     "metadata": {},
     "output_type": "execute_result"
    }
   ],
   "source": [
    "for i in range(1,6):\n",
    "    no=\"https://www.monster.com/jobs/search/?q=Software-Developer&intcid=skr_navigation_nhpso_searchMainPrefill&stpage=1&page=\"+str(a)\n",
    "    a=a+1\n",
    "    url.append(no)\n",
    "url[:]"
   ]
  },
  {
   "cell_type": "markdown",
   "metadata": {},
   "source": [
    "Extracting 'Job Description' from first 5 pages"
   ]
  },
  {
   "cell_type": "code",
   "execution_count": 5,
   "metadata": {},
   "outputs": [
    {
     "data": {
      "text/plain": [
       "['Sr. Software Developer',\n",
       " 'Software Developer - Journeyman',\n",
       " 'Software Developer for Satellite Monitoring Applications',\n",
       " 'Software Developer II',\n",
       " 'Entry Level Software Developer, June 2021 [Cleveland or Akron, OH]',\n",
       " 'Software Developer: 2021 Intern Conversion (CIO)',\n",
       " 'Principal Software Developer',\n",
       " 'Senior Software Developer - Remote',\n",
       " 'Full Stack Software Developer',\n",
       " 'Software Developer']"
      ]
     },
     "execution_count": 5,
     "metadata": {},
     "output_type": "execute_result"
    }
   ],
   "source": [
    "for i in url:\n",
    "    page = requests.get(i)\n",
    "    soup = BeautifulSoup(page.text, 'html.parser')\n",
    "    \n",
    "    post_1=soup.find_all('h2',class_=\"title\")\n",
    "    \n",
    "    for j in post_1:\n",
    "        no=j.text.replace('\\n','')\n",
    "        post.append(no.replace('\\r',''))\n",
    "post[0:10]"
   ]
  },
  {
   "cell_type": "code",
   "execution_count": 6,
   "metadata": {},
   "outputs": [
    {
     "data": {
      "text/plain": [
       "387"
      ]
     },
     "execution_count": 6,
     "metadata": {},
     "output_type": "execute_result"
    }
   ],
   "source": [
    "len(post)"
   ]
  },
  {
   "cell_type": "markdown",
   "metadata": {},
   "source": [
    "Extracting 'Company Name' from first 5 pages"
   ]
  },
  {
   "cell_type": "code",
   "execution_count": 7,
   "metadata": {},
   "outputs": [
    {
     "data": {
      "text/plain": [
       "['Kratos Defense & Security Solutions',\n",
       " 'Bowhead / UIC Technical Services',\n",
       " 'ASRC Federal Holding Company',\n",
       " 'Kelly Mitchell',\n",
       " 'Cohen & Company',\n",
       " 'IBM',\n",
       " 'Ametek, Inc.',\n",
       " 'CyberCoders',\n",
       " 'Naval Nuclear Laboratory',\n",
       " 'SOLOMONS INTERNATIONAL LLC']"
      ]
     },
     "execution_count": 7,
     "metadata": {},
     "output_type": "execute_result"
    }
   ],
   "source": [
    "for i in url:\n",
    "    page = requests.get(i)\n",
    "    soup = BeautifulSoup(page.text, 'html.parser')\n",
    "    \n",
    "    company_1=soup.find_all('div',class_=\"company\")\n",
    "    \n",
    "    for j in company_1:\n",
    "        no=j.text.replace('\\n','')\n",
    "        company.append(no.replace('\\r',''))\n",
    "company[0:10]"
   ]
  },
  {
   "cell_type": "code",
   "execution_count": 8,
   "metadata": {},
   "outputs": [
    {
     "data": {
      "text/plain": [
       "387"
      ]
     },
     "execution_count": 8,
     "metadata": {},
     "output_type": "execute_result"
    }
   ],
   "source": [
    "len(company)"
   ]
  },
  {
   "cell_type": "markdown",
   "metadata": {},
   "source": [
    "Extracting 'Job Location' from first 5 pages"
   ]
  },
  {
   "cell_type": "code",
   "execution_count": 9,
   "metadata": {},
   "outputs": [],
   "source": [
    "for i in url:\n",
    "    page = requests.get(i)\n",
    "    soup = BeautifulSoup(page.text, 'html.parser')\n",
    "    \n",
    "    location_1=soup.find_all('div',class_=\"location\")\n",
    "    \n",
    "    for j in location_1:\n",
    "        no=j.text.replace('\\n','')\n",
    "        location.append(no.replace('\\r',''))"
   ]
  },
  {
   "cell_type": "code",
   "execution_count": 12,
   "metadata": {},
   "outputs": [
    {
     "data": {
      "text/plain": [
       "387"
      ]
     },
     "execution_count": 12,
     "metadata": {},
     "output_type": "execute_result"
    }
   ],
   "source": [
    "len(location)"
   ]
  },
  {
   "cell_type": "markdown",
   "metadata": {},
   "source": [
    "Extracting 'Post Timing' from first 5 pages"
   ]
  },
  {
   "cell_type": "code",
   "execution_count": 13,
   "metadata": {},
   "outputs": [
    {
     "data": {
      "text/plain": [
       "['Posted today',\n",
       " '3 days ago',\n",
       " 'Posted today',\n",
       " 'Posted today',\n",
       " 'Posted today',\n",
       " '1 day ago',\n",
       " '2 days ago',\n",
       " '3 days ago',\n",
       " '3 days ago',\n",
       " '4 days ago']"
      ]
     },
     "execution_count": 13,
     "metadata": {},
     "output_type": "execute_result"
    }
   ],
   "source": [
    "for i in url:\n",
    "    page = requests.get(i)\n",
    "    soup = BeautifulSoup(page.text, 'html.parser')\n",
    "    \n",
    "    time_1=soup.find_all('time')\n",
    "    \n",
    "    for j in time_1:\n",
    "        no=j.text.replace('\\n','')\n",
    "        time.append(no.replace('\\r',''))\n",
    "time[0:10]"
   ]
  },
  {
   "cell_type": "code",
   "execution_count": 14,
   "metadata": {},
   "outputs": [
    {
     "data": {
      "text/plain": [
       "387"
      ]
     },
     "execution_count": 14,
     "metadata": {},
     "output_type": "execute_result"
    }
   ],
   "source": [
    "len(time)"
   ]
  },
  {
   "cell_type": "markdown",
   "metadata": {},
   "source": [
    "Coverting data from first pages into tabular form"
   ]
  },
  {
   "cell_type": "code",
   "execution_count": 15,
   "metadata": {},
   "outputs": [],
   "source": [
    "import pandas as pd\n",
    "table=pd.DataFrame({})\n",
    "table['Job Description']=post[:]\n",
    "table['Company Name']=company[:]\n",
    "table['Company Location']=location[:]\n",
    "table['Post Timing']=time[:]"
   ]
  },
  {
   "cell_type": "code",
   "execution_count": 16,
   "metadata": {},
   "outputs": [
    {
     "data": {
      "text/html": [
       "<div>\n",
       "<style scoped>\n",
       "    .dataframe tbody tr th:only-of-type {\n",
       "        vertical-align: middle;\n",
       "    }\n",
       "\n",
       "    .dataframe tbody tr th {\n",
       "        vertical-align: top;\n",
       "    }\n",
       "\n",
       "    .dataframe thead th {\n",
       "        text-align: right;\n",
       "    }\n",
       "</style>\n",
       "<table border=\"1\" class=\"dataframe\">\n",
       "  <thead>\n",
       "    <tr style=\"text-align: right;\">\n",
       "      <th></th>\n",
       "      <th>Job Description</th>\n",
       "      <th>Company Name</th>\n",
       "      <th>Company Location</th>\n",
       "      <th>Post Timing</th>\n",
       "    </tr>\n",
       "  </thead>\n",
       "  <tbody>\n",
       "    <tr>\n",
       "      <th>0</th>\n",
       "      <td>Sr. Software Developer</td>\n",
       "      <td>Kratos Defense &amp; Security Solutions</td>\n",
       "      <td>Colorado Springs, CO</td>\n",
       "      <td>Posted today</td>\n",
       "    </tr>\n",
       "    <tr>\n",
       "      <th>1</th>\n",
       "      <td>Software Developer - Journeyman</td>\n",
       "      <td>Bowhead / UIC Technical Services</td>\n",
       "      <td>Aberdeen Proving Ground, MD</td>\n",
       "      <td>3 days ago</td>\n",
       "    </tr>\n",
       "    <tr>\n",
       "      <th>2</th>\n",
       "      <td>Software Developer for Satellite Monitoring Ap...</td>\n",
       "      <td>ASRC Federal Holding Company</td>\n",
       "      <td>Suitland, MD</td>\n",
       "      <td>Posted today</td>\n",
       "    </tr>\n",
       "    <tr>\n",
       "      <th>3</th>\n",
       "      <td>Software Developer II</td>\n",
       "      <td>Kelly Mitchell</td>\n",
       "      <td>Town &amp; Country, MO</td>\n",
       "      <td>Posted today</td>\n",
       "    </tr>\n",
       "    <tr>\n",
       "      <th>4</th>\n",
       "      <td>Entry Level Software Developer, June 2021 [Cle...</td>\n",
       "      <td>Cohen &amp; Company</td>\n",
       "      <td>Cleveland, OH</td>\n",
       "      <td>Posted today</td>\n",
       "    </tr>\n",
       "    <tr>\n",
       "      <th>...</th>\n",
       "      <td>...</td>\n",
       "      <td>...</td>\n",
       "      <td>...</td>\n",
       "      <td>...</td>\n",
       "    </tr>\n",
       "    <tr>\n",
       "      <th>382</th>\n",
       "      <td>Software Engineer</td>\n",
       "      <td>Microsoft Corporation</td>\n",
       "      <td>Sunnyvale, CA</td>\n",
       "      <td>2 days ago</td>\n",
       "    </tr>\n",
       "    <tr>\n",
       "      <th>383</th>\n",
       "      <td>Senior, Microsoft .net full stack Developer</td>\n",
       "      <td>DentaQuest</td>\n",
       "      <td>Charlestown, MA</td>\n",
       "      <td>2 days ago</td>\n",
       "    </tr>\n",
       "    <tr>\n",
       "      <th>384</th>\n",
       "      <td>Sr. Developer Operations Engineers</td>\n",
       "      <td>Nowcom LLC</td>\n",
       "      <td>Los Angeles, CA</td>\n",
       "      <td>2 days ago</td>\n",
       "    </tr>\n",
       "    <tr>\n",
       "      <th>385</th>\n",
       "      <td>Senior iOS Software Engineer</td>\n",
       "      <td>Mobile Heartbeat</td>\n",
       "      <td>Waltham, MA</td>\n",
       "      <td>2 days ago</td>\n",
       "    </tr>\n",
       "    <tr>\n",
       "      <th>386</th>\n",
       "      <td>Java Developer Lead</td>\n",
       "      <td>IKCON TECHNOLOGIES INC</td>\n",
       "      <td>seattle, WA</td>\n",
       "      <td>2 days ago</td>\n",
       "    </tr>\n",
       "  </tbody>\n",
       "</table>\n",
       "<p>387 rows × 4 columns</p>\n",
       "</div>"
      ],
      "text/plain": [
       "                                       Job Description  \\\n",
       "0                               Sr. Software Developer   \n",
       "1                      Software Developer - Journeyman   \n",
       "2    Software Developer for Satellite Monitoring Ap...   \n",
       "3                                Software Developer II   \n",
       "4    Entry Level Software Developer, June 2021 [Cle...   \n",
       "..                                                 ...   \n",
       "382                                  Software Engineer   \n",
       "383        Senior, Microsoft .net full stack Developer   \n",
       "384                 Sr. Developer Operations Engineers   \n",
       "385                       Senior iOS Software Engineer   \n",
       "386                                Java Developer Lead   \n",
       "\n",
       "                            Company Name             Company Location  \\\n",
       "0    Kratos Defense & Security Solutions         Colorado Springs, CO   \n",
       "1       Bowhead / UIC Technical Services  Aberdeen Proving Ground, MD   \n",
       "2           ASRC Federal Holding Company                 Suitland, MD   \n",
       "3                         Kelly Mitchell           Town & Country, MO   \n",
       "4                        Cohen & Company                Cleveland, OH   \n",
       "..                                   ...                          ...   \n",
       "382                Microsoft Corporation                Sunnyvale, CA   \n",
       "383                           DentaQuest              Charlestown, MA   \n",
       "384                           Nowcom LLC              Los Angeles, CA   \n",
       "385                     Mobile Heartbeat                  Waltham, MA   \n",
       "386               IKCON TECHNOLOGIES INC                  seattle, WA   \n",
       "\n",
       "      Post Timing  \n",
       "0    Posted today  \n",
       "1      3 days ago  \n",
       "2    Posted today  \n",
       "3    Posted today  \n",
       "4    Posted today  \n",
       "..            ...  \n",
       "382    2 days ago  \n",
       "383    2 days ago  \n",
       "384    2 days ago  \n",
       "385    2 days ago  \n",
       "386    2 days ago  \n",
       "\n",
       "[387 rows x 4 columns]"
      ]
     },
     "execution_count": 16,
     "metadata": {},
     "output_type": "execute_result"
    }
   ],
   "source": [
    "table"
   ]
  },
  {
   "cell_type": "markdown",
   "metadata": {},
   "source": [
    "Saving as a CSV file"
   ]
  },
  {
   "cell_type": "code",
   "execution_count": 17,
   "metadata": {},
   "outputs": [],
   "source": [
    "table.to_csv('Web Scraping(Beautiful Soup)-Assignment 9.csv')"
   ]
  },
  {
   "cell_type": "code",
   "execution_count": null,
   "metadata": {},
   "outputs": [],
   "source": []
  }
 ],
 "metadata": {
  "kernelspec": {
   "display_name": "Python 3",
   "language": "python",
   "name": "python3"
  },
  "language_info": {
   "codemirror_mode": {
    "name": "ipython",
    "version": 3
   },
   "file_extension": ".py",
   "mimetype": "text/x-python",
   "name": "python",
   "nbconvert_exporter": "python",
   "pygments_lexer": "ipython3",
   "version": "3.8.5"
  }
 },
 "nbformat": 4,
 "nbformat_minor": 4
}
