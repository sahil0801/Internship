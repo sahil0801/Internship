{
 "cells": [
  {
   "cell_type": "markdown",
   "metadata": {},
   "source": [
    "# 1. Write a python program which searches all the product under a particular product vertical from www.amazon.in. The product verticals to be searched will be taken as input from user. For e.g. If user input is ‘guitar’. Then search for guitars."
   ]
  },
  {
   "cell_type": "code",
   "execution_count": 276,
   "metadata": {},
   "outputs": [],
   "source": [
    "import selenium \n",
    "import pandas as pd\n",
    "from selenium import webdriver\n",
    "import time\n",
    "\n",
    "import requests\n",
    "\n",
    "import re\n",
    "\n",
    "import os, sys"
   ]
  },
  {
   "cell_type": "code",
   "execution_count": 277,
   "metadata": {},
   "outputs": [],
   "source": [
    "driver = webdriver.Chrome(\"C:/Users/91880/Downloads/chromedriver_win32/chromedriver.exe\")"
   ]
  },
  {
   "cell_type": "code",
   "execution_count": 278,
   "metadata": {},
   "outputs": [],
   "source": [
    "driver.get('https://www.amazon.in/')"
   ]
  },
  {
   "cell_type": "markdown",
   "metadata": {},
   "source": [
    "## Taking user input for product and clicking on search button"
   ]
  },
  {
   "cell_type": "code",
   "execution_count": 280,
   "metadata": {},
   "outputs": [
    {
     "name": "stdout",
     "output_type": "stream",
     "text": [
      "Enter product to be searched:mobile\n"
     ]
    }
   ],
   "source": [
    "product = input(\"Enter product to be searched:\")"
   ]
  },
  {
   "cell_type": "code",
   "execution_count": 281,
   "metadata": {},
   "outputs": [
    {
     "data": {
      "text/plain": [
       "'mobile'"
      ]
     },
     "execution_count": 281,
     "metadata": {},
     "output_type": "execute_result"
    }
   ],
   "source": [
    "product"
   ]
  },
  {
   "cell_type": "code",
   "execution_count": 282,
   "metadata": {},
   "outputs": [],
   "source": [
    "search = driver.find_element_by_xpath(\"//input[@id='twotabsearchtextbox']\")\n",
    "search.send_keys(product)"
   ]
  },
  {
   "cell_type": "code",
   "execution_count": 283,
   "metadata": {},
   "outputs": [],
   "source": [
    "btn = driver.find_element_by_xpath(\"//input[@id='nav-search-submit-button']\")\n",
    "btn.click()"
   ]
  },
  {
   "cell_type": "markdown",
   "metadata": {},
   "source": [
    "# 2. In the above question, now scrape the following details of each product listed in first 3 pages of your search results and save it in a dataframe and csv. In case if any product vertical has less than 3 pages in search results then scrape all the products available under that product vertical. Details to be scraped are: \"Brand Name\", \"Name of the Product\", \"Rating\", \"No. of Ratings\", \"Price\", \"Return/Exchange\", \"Expected Delivery\", \"Availability\", \"Other Details\" and “Product URL”. In case, if any of the details are missing for any of the product then replace it by “-“."
   ]
  },
  {
   "cell_type": "markdown",
   "metadata": {},
   "source": [
    "## Extracting all the required data"
   ]
  },
  {
   "cell_type": "code",
   "execution_count": 284,
   "metadata": {},
   "outputs": [],
   "source": [
    "url=[]\n",
    "url_1=driver.find_elements_by_xpath(\"//a[@class='a-link-normal a-text-normal']\")\n",
    "    \n",
    "for i in url_1:\n",
    "    a=i.get_attribute('href')\n",
    "    url.append(a)      "
   ]
  },
  {
   "cell_type": "code",
   "execution_count": 285,
   "metadata": {},
   "outputs": [],
   "source": [
    "nxt=driver.find_element_by_xpath(\"//li[@class='a-last']\")\n",
    "nxt.click()"
   ]
  },
  {
   "cell_type": "code",
   "execution_count": 286,
   "metadata": {},
   "outputs": [],
   "source": [
    "url_1=driver.find_elements_by_xpath(\"//a[@class='a-link-normal a-text-normal']\")\n",
    "    \n",
    "for i in url_1:\n",
    "    a=i.get_attribute('href')\n",
    "    url.append(a) "
   ]
  },
  {
   "cell_type": "code",
   "execution_count": 287,
   "metadata": {},
   "outputs": [],
   "source": [
    "nxt=driver.find_element_by_xpath(\"//li[@class='a-last']\")\n",
    "nxt.click()"
   ]
  },
  {
   "cell_type": "code",
   "execution_count": 288,
   "metadata": {},
   "outputs": [],
   "source": [
    "url_1=driver.find_elements_by_xpath(\"//a[@class='a-link-normal a-text-normal']\")\n",
    "    \n",
    "for i in url_1:\n",
    "    a=i.get_attribute('href')\n",
    "    url.append(a) "
   ]
  },
  {
   "cell_type": "code",
   "execution_count": 289,
   "metadata": {},
   "outputs": [
    {
     "data": {
      "text/plain": [
       "75"
      ]
     },
     "execution_count": 289,
     "metadata": {},
     "output_type": "execute_result"
    }
   ],
   "source": [
    "len(url)"
   ]
  },
  {
   "cell_type": "code",
   "execution_count": 290,
   "metadata": {},
   "outputs": [],
   "source": [
    "brandf=[]\n",
    "for i in url:\n",
    "    driver.get(i)\n",
    "    \n",
    "    brand_1=driver.find_elements_by_xpath(\"//span[@id='productTitle']\")\n",
    "    \n",
    "    if len(brand_1)==1:\n",
    "        for j in brand_1:\n",
    "            b=j.text.replace('\\n','')\n",
    "            c=b.split()\n",
    "            d=c[0]\n",
    "            brandf.append(d)\n",
    "    else:\n",
    "        brandf.append(\"-\")"
   ]
  },
  {
   "cell_type": "code",
   "execution_count": 300,
   "metadata": {},
   "outputs": [],
   "source": [
    "namef=[]\n",
    "for i in url:\n",
    "    driver.get(i)\n",
    "    \n",
    "    name_1=driver.find_elements_by_xpath(\"//span[@id='productTitle']\")\n",
    "    \n",
    "    if len(name_1)==1:\n",
    "        for j in name_1:\n",
    "            b=j.text.replace('\\n','')\n",
    "            namef.append(b)\n",
    "    else:\n",
    "        namef.append(\"-\")"
   ]
  },
  {
   "cell_type": "code",
   "execution_count": 302,
   "metadata": {},
   "outputs": [],
   "source": [
    "ratef=[]\n",
    "for i in url:\n",
    "    driver.get(i)\n",
    "    \n",
    "    rate_1=driver.find_elements_by_xpath(\"//span[@class='a-size-medium a-color-base']\")\n",
    "    \n",
    "    if len(rate_1)==1:\n",
    "        for j in rate_1:\n",
    "            b=j.text.replace(' out of 5','')\n",
    "            ratef.append(b)\n",
    "    else:\n",
    "        ratef.append(\"-\")"
   ]
  },
  {
   "cell_type": "code",
   "execution_count": 312,
   "metadata": {},
   "outputs": [],
   "source": [
    "ratenf=[]\n",
    "a=1\n",
    "for i in url:\n",
    "    driver.get(i)\n",
    "    \n",
    "    raten_1=driver.find_elements_by_xpath(\"//span[@id='acrCustomerReviewText']\")\n",
    "    \n",
    "    if len(raten_1)==0:\n",
    "        ratenf.append(\"-\")\n",
    "        \n",
    "    else:\n",
    "        for j in raten_1:\n",
    "            b=j.text.replace(' ratings','')\n",
    "            a=a+1\n",
    "            if a%2==1:\n",
    "                ratenf.append(b)"
   ]
  },
  {
   "cell_type": "code",
   "execution_count": 319,
   "metadata": {},
   "outputs": [],
   "source": [
    "pricef=[]\n",
    "for i in url:\n",
    "    driver.get(i)\n",
    "    \n",
    "    price_1=driver.find_elements_by_xpath(\"//span[@id='priceblock_ourprice']\")\n",
    "    \n",
    "    if len(price_1)==1:\n",
    "        for j in price_1:\n",
    "            b=j.text\n",
    "            pricef.append(b)\n",
    "    \n",
    "    else:\n",
    "        price_2=driver.find_elements_by_xpath(\"//span[@id='priceblock_dealprice']\")\n",
    "        \n",
    "        if len(price_2)==1:\n",
    "            for k in price_2:\n",
    "                c=k.text\n",
    "                pricef.append(c)\n",
    "                \n",
    "        else:\n",
    "            pricef.append(\"-\")"
   ]
  },
  {
   "cell_type": "code",
   "execution_count": 342,
   "metadata": {},
   "outputs": [],
   "source": [
    "delf=[]\n",
    "availf=[]\n",
    "for i in url:\n",
    "    driver.get(i)\n",
    "    \n",
    "    del_1=driver.find_elements_by_xpath(\"//div[@id='ddmDeliveryMessage']/b\")\n",
    "    \n",
    "    if len(del_1)==1:\n",
    "        for j in del_1:\n",
    "            b=j.text.replace('\\n','')\n",
    "            delf.append(b)\n",
    "            availf.append(\"Available\")\n",
    "    else:\n",
    "        delf.append(\"-\")\n",
    "        availf.append(\"Not available\")"
   ]
  },
  {
   "cell_type": "code",
   "execution_count": 352,
   "metadata": {},
   "outputs": [],
   "source": [
    "exchf=[]\n",
    "for i in url:\n",
    "    driver.get(i)\n",
    "    \n",
    "    exch_1=driver.find_elements_by_xpath(\"//div[@id='buyBackAccordionRow']/div/div/a/h5/div[2]/span/span\")\n",
    "    \n",
    "    if len(exch_1)==1:\n",
    "        for j in exch_1:\n",
    "            b=j.text.replace('    ',' ')\n",
    "            exchf.append(b)\n",
    "    else:\n",
    "        exchf.append(\"Exchange not available\")"
   ]
  },
  {
   "cell_type": "markdown",
   "metadata": {},
   "source": [
    "## Checking Length"
   ]
  },
  {
   "cell_type": "code",
   "execution_count": 360,
   "metadata": {},
   "outputs": [
    {
     "name": "stdout",
     "output_type": "stream",
     "text": [
      "75 75 75 75 75 75 75 75 75\n"
     ]
    }
   ],
   "source": [
    "print(len(url),len(exchf),len(brandf),len(namef),len(ratef),len(ratenf),len(pricef),len(delf),len(availf)) "
   ]
  },
  {
   "cell_type": "markdown",
   "metadata": {},
   "source": [
    "## Creating Dataframe and saving as CSV"
   ]
  },
  {
   "cell_type": "code",
   "execution_count": 361,
   "metadata": {},
   "outputs": [
    {
     "data": {
      "text/html": [
       "<div>\n",
       "<style scoped>\n",
       "    .dataframe tbody tr th:only-of-type {\n",
       "        vertical-align: middle;\n",
       "    }\n",
       "\n",
       "    .dataframe tbody tr th {\n",
       "        vertical-align: top;\n",
       "    }\n",
       "\n",
       "    .dataframe thead th {\n",
       "        text-align: right;\n",
       "    }\n",
       "</style>\n",
       "<table border=\"1\" class=\"dataframe\">\n",
       "  <thead>\n",
       "    <tr style=\"text-align: right;\">\n",
       "      <th></th>\n",
       "      <th>Brand Name</th>\n",
       "      <th>Product Name</th>\n",
       "      <th>Product Rating</th>\n",
       "      <th>No. of ratings</th>\n",
       "      <th>Price</th>\n",
       "      <th>Exchange Price</th>\n",
       "      <th>Availability</th>\n",
       "      <th>Expected Delivery</th>\n",
       "      <th>Product URL</th>\n",
       "    </tr>\n",
       "  </thead>\n",
       "  <tbody>\n",
       "    <tr>\n",
       "      <th>0</th>\n",
       "      <td>Samsung</td>\n",
       "      <td>Samsung Galaxy M51 (Electric Blue, 6GB RAM, 12...</td>\n",
       "      <td>4.4</td>\n",
       "      <td>30,910</td>\n",
       "      <td>₹ 22,999.00</td>\n",
       "      <td>Up to 12,400.00 off</td>\n",
       "      <td>Available</td>\n",
       "      <td>Thursday, March 4</td>\n",
       "      <td>https://www.amazon.in/gp/slredirect/picassoRed...</td>\n",
       "    </tr>\n",
       "    <tr>\n",
       "      <th>1</th>\n",
       "      <td>Apple</td>\n",
       "      <td>New Apple iPhone 12 Mini (128GB) - Black</td>\n",
       "      <td>4.3</td>\n",
       "      <td>13,847</td>\n",
       "      <td>₹ 71,900.00</td>\n",
       "      <td>Up to 12,400.00 off</td>\n",
       "      <td>Available</td>\n",
       "      <td>Monday, March 1</td>\n",
       "      <td>https://www.amazon.in/gp/slredirect/picassoRed...</td>\n",
       "    </tr>\n",
       "    <tr>\n",
       "      <th>2</th>\n",
       "      <td>Redmi</td>\n",
       "      <td>Redmi 9A (Nature Green, 2GB Ram, 32GB Storage)...</td>\n",
       "      <td>4.1</td>\n",
       "      <td>11,330</td>\n",
       "      <td>₹ 6,799.00</td>\n",
       "      <td>Up to 6,400.00 off</td>\n",
       "      <td>Available</td>\n",
       "      <td>Monday, March 1</td>\n",
       "      <td>https://www.amazon.in/Redmi-9A-2GB-32GB-Storag...</td>\n",
       "    </tr>\n",
       "    <tr>\n",
       "      <th>3</th>\n",
       "      <td>Redmi</td>\n",
       "      <td>Redmi 9 (Sky Blue, 4GB RAM, 64GB Storage)</td>\n",
       "      <td>4</td>\n",
       "      <td>2,995</td>\n",
       "      <td>-</td>\n",
       "      <td>Up to 8,300.00 off</td>\n",
       "      <td>Available</td>\n",
       "      <td>Tuesday, March 2</td>\n",
       "      <td>https://www.amazon.in/Redmi-Sky-Blue-64GB-Stor...</td>\n",
       "    </tr>\n",
       "    <tr>\n",
       "      <th>4</th>\n",
       "      <td>Oppo</td>\n",
       "      <td>Oppo A31 (Mystery Black, 6GB RAM, 128GB Storag...</td>\n",
       "      <td>4</td>\n",
       "      <td>13,847</td>\n",
       "      <td>₹ 11,990.00</td>\n",
       "      <td>Up to 11,350.00 off</td>\n",
       "      <td>Available</td>\n",
       "      <td>Tuesday, March 2</td>\n",
       "      <td>https://www.amazon.in/Oppo-Mystery-Storage-Add...</td>\n",
       "    </tr>\n",
       "    <tr>\n",
       "      <th>...</th>\n",
       "      <td>...</td>\n",
       "      <td>...</td>\n",
       "      <td>...</td>\n",
       "      <td>...</td>\n",
       "      <td>...</td>\n",
       "      <td>...</td>\n",
       "      <td>...</td>\n",
       "      <td>...</td>\n",
       "      <td>...</td>\n",
       "    </tr>\n",
       "    <tr>\n",
       "      <th>70</th>\n",
       "      <td>Samsung</td>\n",
       "      <td>Samsung Galaxy M01 Core (Black, 1GB RAM, 16GB ...</td>\n",
       "      <td>3.4</td>\n",
       "      <td>9,200</td>\n",
       "      <td>₹ 4,999.00</td>\n",
       "      <td>Up to 4,700.00 off</td>\n",
       "      <td>Available</td>\n",
       "      <td>Tuesday, March 2</td>\n",
       "      <td>https://www.amazon.in/Samsung-Galaxy-Storage-A...</td>\n",
       "    </tr>\n",
       "    <tr>\n",
       "      <th>71</th>\n",
       "      <td>Samsung</td>\n",
       "      <td>Samsung Galaxy M31 (Space Black, 6GB RAM, 128G...</td>\n",
       "      <td>4.2</td>\n",
       "      <td>131,842</td>\n",
       "      <td>₹ 16,499.00</td>\n",
       "      <td>Up to 12,400.00 off</td>\n",
       "      <td>Available</td>\n",
       "      <td>Tuesday, March 2</td>\n",
       "      <td>https://www.amazon.in/Samsung-Galaxy-Space-Bla...</td>\n",
       "    </tr>\n",
       "    <tr>\n",
       "      <th>72</th>\n",
       "      <td>Samsung</td>\n",
       "      <td>Samsung Galaxy M01 Core (Blue, 2GB RAM, 32GB S...</td>\n",
       "      <td>3.4</td>\n",
       "      <td>9,200</td>\n",
       "      <td>₹ 5,999.00</td>\n",
       "      <td>Up to 5,650.00 off</td>\n",
       "      <td>Available</td>\n",
       "      <td>Saturday, March 6</td>\n",
       "      <td>https://www.amazon.in/Samsung-Galaxy-Storage-A...</td>\n",
       "    </tr>\n",
       "    <tr>\n",
       "      <th>73</th>\n",
       "      <td>Redmi</td>\n",
       "      <td>Redmi 9 Prime (Sunrise Flare, 4GB RAM, 64GB St...</td>\n",
       "      <td>4.2</td>\n",
       "      <td>14,496</td>\n",
       "      <td>₹ 9,499.00</td>\n",
       "      <td>Up to 8,900.00 off</td>\n",
       "      <td>Available</td>\n",
       "      <td>Monday, March 1</td>\n",
       "      <td>https://www.amazon.in/Redmi-Prime-Sunrise-Stor...</td>\n",
       "    </tr>\n",
       "    <tr>\n",
       "      <th>74</th>\n",
       "      <td>Lava</td>\n",
       "      <td>Lava Z1 (2GBRAM, 16GB Storage) Denim Blue</td>\n",
       "      <td>3.6</td>\n",
       "      <td>20</td>\n",
       "      <td>₹ 4,999.00</td>\n",
       "      <td>Up to 4,749.00 off</td>\n",
       "      <td>Available</td>\n",
       "      <td>Monday, March 1</td>\n",
       "      <td>https://www.amazon.in/gp/slredirect/picassoRed...</td>\n",
       "    </tr>\n",
       "  </tbody>\n",
       "</table>\n",
       "<p>75 rows × 9 columns</p>\n",
       "</div>"
      ],
      "text/plain": [
       "   Brand Name                                       Product Name  \\\n",
       "0     Samsung  Samsung Galaxy M51 (Electric Blue, 6GB RAM, 12...   \n",
       "1       Apple           New Apple iPhone 12 Mini (128GB) - Black   \n",
       "2       Redmi  Redmi 9A (Nature Green, 2GB Ram, 32GB Storage)...   \n",
       "3       Redmi          Redmi 9 (Sky Blue, 4GB RAM, 64GB Storage)   \n",
       "4        Oppo  Oppo A31 (Mystery Black, 6GB RAM, 128GB Storag...   \n",
       "..        ...                                                ...   \n",
       "70    Samsung  Samsung Galaxy M01 Core (Black, 1GB RAM, 16GB ...   \n",
       "71    Samsung  Samsung Galaxy M31 (Space Black, 6GB RAM, 128G...   \n",
       "72    Samsung  Samsung Galaxy M01 Core (Blue, 2GB RAM, 32GB S...   \n",
       "73      Redmi  Redmi 9 Prime (Sunrise Flare, 4GB RAM, 64GB St...   \n",
       "74       Lava          Lava Z1 (2GBRAM, 16GB Storage) Denim Blue   \n",
       "\n",
       "   Product Rating No. of ratings        Price       Exchange Price  \\\n",
       "0             4.4         30,910  ₹ 22,999.00  Up to 12,400.00 off   \n",
       "1             4.3         13,847  ₹ 71,900.00  Up to 12,400.00 off   \n",
       "2             4.1         11,330   ₹ 6,799.00   Up to 6,400.00 off   \n",
       "3               4          2,995            -   Up to 8,300.00 off   \n",
       "4               4         13,847  ₹ 11,990.00  Up to 11,350.00 off   \n",
       "..            ...            ...          ...                  ...   \n",
       "70            3.4          9,200   ₹ 4,999.00   Up to 4,700.00 off   \n",
       "71            4.2        131,842  ₹ 16,499.00  Up to 12,400.00 off   \n",
       "72            3.4          9,200   ₹ 5,999.00   Up to 5,650.00 off   \n",
       "73            4.2         14,496   ₹ 9,499.00   Up to 8,900.00 off   \n",
       "74            3.6             20   ₹ 4,999.00   Up to 4,749.00 off   \n",
       "\n",
       "   Availability  Expected Delivery  \\\n",
       "0     Available  Thursday, March 4   \n",
       "1     Available    Monday, March 1   \n",
       "2     Available    Monday, March 1   \n",
       "3     Available   Tuesday, March 2   \n",
       "4     Available   Tuesday, March 2   \n",
       "..          ...                ...   \n",
       "70    Available   Tuesday, March 2   \n",
       "71    Available   Tuesday, March 2   \n",
       "72    Available  Saturday, March 6   \n",
       "73    Available    Monday, March 1   \n",
       "74    Available    Monday, March 1   \n",
       "\n",
       "                                          Product URL  \n",
       "0   https://www.amazon.in/gp/slredirect/picassoRed...  \n",
       "1   https://www.amazon.in/gp/slredirect/picassoRed...  \n",
       "2   https://www.amazon.in/Redmi-9A-2GB-32GB-Storag...  \n",
       "3   https://www.amazon.in/Redmi-Sky-Blue-64GB-Stor...  \n",
       "4   https://www.amazon.in/Oppo-Mystery-Storage-Add...  \n",
       "..                                                ...  \n",
       "70  https://www.amazon.in/Samsung-Galaxy-Storage-A...  \n",
       "71  https://www.amazon.in/Samsung-Galaxy-Space-Bla...  \n",
       "72  https://www.amazon.in/Samsung-Galaxy-Storage-A...  \n",
       "73  https://www.amazon.in/Redmi-Prime-Sunrise-Stor...  \n",
       "74  https://www.amazon.in/gp/slredirect/picassoRed...  \n",
       "\n",
       "[75 rows x 9 columns]"
      ]
     },
     "execution_count": 361,
     "metadata": {},
     "output_type": "execute_result"
    }
   ],
   "source": [
    "table=pd.DataFrame({})\n",
    "table['Brand Name']=brandf[:]\n",
    "table['Product Name']=namef[:]\n",
    "table['Product Rating']=ratef[:]\n",
    "table['No. of ratings']=ratenf[:]\n",
    "table['Price']=pricef[:]\n",
    "table['Exchange Price']=exchf[:]\n",
    "table['Availability']=availf[:]\n",
    "table['Expected Delivery']=delf[:]\n",
    "table['Product URL']=url[:]\n",
    "table"
   ]
  },
  {
   "cell_type": "code",
   "execution_count": 362,
   "metadata": {},
   "outputs": [],
   "source": [
    "table.to_csv('Web Scraping Assignment 3-Q2.csv')"
   ]
  },
  {
   "cell_type": "markdown",
   "metadata": {},
   "source": [
    "# 3. Write a python program to access the search bar and search button on images.google.com and scrape 100 images each for keywords ‘fruits’, ‘cars’ and ‘Machine Learning’."
   ]
  },
  {
   "cell_type": "code",
   "execution_count": 572,
   "metadata": {},
   "outputs": [],
   "source": [
    "driver = webdriver.Chrome(\"C:/Users/91880/Downloads/chromedriver_win32/chromedriver.exe\")"
   ]
  },
  {
   "cell_type": "code",
   "execution_count": 580,
   "metadata": {},
   "outputs": [],
   "source": [
    "driver.get('https://images.google.com/')"
   ]
  },
  {
   "cell_type": "markdown",
   "metadata": {},
   "source": [
    "## Searching for 'fruits' and extractind data"
   ]
  },
  {
   "cell_type": "code",
   "execution_count": 581,
   "metadata": {},
   "outputs": [],
   "source": [
    "search = driver.find_element_by_xpath(\"//input[@class='gLFyf gsfi']\")\n",
    "search.send_keys(\"fruits\")"
   ]
  },
  {
   "cell_type": "code",
   "execution_count": 582,
   "metadata": {},
   "outputs": [],
   "source": [
    "search_btn = driver.find_element_by_xpath(\"//button[@class='Tg7LZd']\")\n",
    "search_btn.click()"
   ]
  },
  {
   "cell_type": "code",
   "execution_count": 583,
   "metadata": {},
   "outputs": [],
   "source": [
    "title=[]\n",
    "web=[]\n",
    "url=[]"
   ]
  },
  {
   "cell_type": "code",
   "execution_count": 585,
   "metadata": {},
   "outputs": [],
   "source": [
    "for i in range(500):\n",
    "    driver.execute_script(\"window.scrollBy(0,10000)\")"
   ]
  },
  {
   "cell_type": "code",
   "execution_count": 586,
   "metadata": {},
   "outputs": [],
   "source": [
    "title_1=driver.find_elements_by_xpath(\"//a[@class='VFACy kGQAp sMi44c lNHeqe WGvvNb']\")"
   ]
  },
  {
   "cell_type": "code",
   "execution_count": 587,
   "metadata": {},
   "outputs": [],
   "source": [
    "for i in title_1:\n",
    "    a=i.get_attribute('title')\n",
    "    title.append(a)"
   ]
  },
  {
   "cell_type": "code",
   "execution_count": 589,
   "metadata": {},
   "outputs": [],
   "source": [
    "web_1=driver.find_elements_by_xpath(\"//div[@class='fxgdke']\")"
   ]
  },
  {
   "cell_type": "code",
   "execution_count": 590,
   "metadata": {},
   "outputs": [],
   "source": [
    "for i in web_1:\n",
    "    a=i.text\n",
    "    web.append(a)"
   ]
  },
  {
   "cell_type": "code",
   "execution_count": 598,
   "metadata": {},
   "outputs": [],
   "source": [
    "url_1=driver.find_elements_by_xpath(\"//div[@class='isv-r PNCib MSM1fd BUooTd']/a[2]\")"
   ]
  },
  {
   "cell_type": "code",
   "execution_count": 600,
   "metadata": {},
   "outputs": [],
   "source": [
    "url=[]\n",
    "for i in url_1:\n",
    "    a=i.get_attribute('href')\n",
    "    url.append(a)"
   ]
  },
  {
   "cell_type": "code",
   "execution_count": 602,
   "metadata": {},
   "outputs": [],
   "source": [
    " img_1=driver.find_elements_by_xpath('//img[@class=\"rg_i Q4LuWd\"]')"
   ]
  },
  {
   "cell_type": "code",
   "execution_count": 607,
   "metadata": {},
   "outputs": [],
   "source": [
    "img=[]\n",
    "for i in img_1:\n",
    "    b=i.get_attribute('src')\n",
    "    if b is not None:\n",
    "        if b[0:4]=='http':\n",
    "            img.append(b)"
   ]
  },
  {
   "cell_type": "markdown",
   "metadata": {},
   "source": [
    "## Creating a folder 'Fruits' and downloading all the images"
   ]
  },
  {
   "cell_type": "code",
   "execution_count": 624,
   "metadata": {},
   "outputs": [],
   "source": [
    "path = \"C:/Users/91880/Downloads/Web Scraping Assignment 3-Q3/Fruits\"\n",
    "os.mkdir(path, 0o755)"
   ]
  },
  {
   "cell_type": "code",
   "execution_count": 626,
   "metadata": {},
   "outputs": [],
   "source": [
    "load=[]\n",
    "for i in range(len(img)):\n",
    "    if i<=100:\n",
    "        n= requests.get(img[i])\n",
    "        file = open(path+\"/img\"+str(i)+\".jpg\", \"wb\")\n",
    "        file.write(n.content)\n",
    "        load.append(\"Downloaded\")"
   ]
  },
  {
   "cell_type": "markdown",
   "metadata": {},
   "source": [
    "## Creating Dataframe"
   ]
  },
  {
   "cell_type": "code",
   "execution_count": 629,
   "metadata": {},
   "outputs": [
    {
     "data": {
      "text/html": [
       "<div>\n",
       "<style scoped>\n",
       "    .dataframe tbody tr th:only-of-type {\n",
       "        vertical-align: middle;\n",
       "    }\n",
       "\n",
       "    .dataframe tbody tr th {\n",
       "        vertical-align: top;\n",
       "    }\n",
       "\n",
       "    .dataframe thead th {\n",
       "        text-align: right;\n",
       "    }\n",
       "</style>\n",
       "<table border=\"1\" class=\"dataframe\">\n",
       "  <thead>\n",
       "    <tr style=\"text-align: right;\">\n",
       "      <th></th>\n",
       "      <th>Title</th>\n",
       "      <th>Website</th>\n",
       "      <th>URL</th>\n",
       "      <th>Status</th>\n",
       "    </tr>\n",
       "  </thead>\n",
       "  <tbody>\n",
       "    <tr>\n",
       "      <th>0</th>\n",
       "      <td>Fruits</td>\n",
       "      <td>healthyeating.org</td>\n",
       "      <td>https://www.healthyeating.org/Healthy-Eating/A...</td>\n",
       "      <td>Downloaded</td>\n",
       "    </tr>\n",
       "    <tr>\n",
       "      <th>1</th>\n",
       "      <td>Buy Fruits (All in One) Book Online at Low Pri...</td>\n",
       "      <td>amazon.in</td>\n",
       "      <td>https://www.amazon.in/Fruits-All-One-Dreamland...</td>\n",
       "      <td>Downloaded</td>\n",
       "    </tr>\n",
       "    <tr>\n",
       "      <th>2</th>\n",
       "      <td>100 Most Popular Fruits in The World | Learn N...</td>\n",
       "      <td>youtube.com</td>\n",
       "      <td>https://www.youtube.com/watch?v=PY2OxP_jMZ0</td>\n",
       "      <td>Downloaded</td>\n",
       "    </tr>\n",
       "    <tr>\n",
       "      <th>3</th>\n",
       "      <td>Is there a best time to eat fruit? Facts and m...</td>\n",
       "      <td>medicalnewstoday.com</td>\n",
       "      <td>https://www.medicalnewstoday.com/articles/325253</td>\n",
       "      <td>Downloaded</td>\n",
       "    </tr>\n",
       "    <tr>\n",
       "      <th>4</th>\n",
       "      <td>Fruit and Diabetes - Can Diabetics Eat Fruit?</td>\n",
       "      <td>diabetes.co.uk</td>\n",
       "      <td>https://www.diabetes.co.uk/food/fruit.html</td>\n",
       "      <td>Downloaded</td>\n",
       "    </tr>\n",
       "    <tr>\n",
       "      <th>...</th>\n",
       "      <td>...</td>\n",
       "      <td>...</td>\n",
       "      <td>...</td>\n",
       "      <td>...</td>\n",
       "    </tr>\n",
       "    <tr>\n",
       "      <th>95</th>\n",
       "      <td>What Is a Fruit? · Frontiers for Young Minds</td>\n",
       "      <td>kids.frontiersin.org</td>\n",
       "      <td>https://kids.frontiersin.org/article/10.3389/f...</td>\n",
       "      <td>Downloaded</td>\n",
       "    </tr>\n",
       "    <tr>\n",
       "      <th>96</th>\n",
       "      <td>Fresh Fruits Box Delivery | Edible Arrangements</td>\n",
       "      <td>ediblearrangements.com · In stock</td>\n",
       "      <td>https://www.ediblearrangements.com/fruit-gifts...</td>\n",
       "      <td>Downloaded</td>\n",
       "    </tr>\n",
       "    <tr>\n",
       "      <th>97</th>\n",
       "      <td>How to Make A Fruit Platter (Fruit Tray) | Veg...</td>\n",
       "      <td>veggiedesserts.com</td>\n",
       "      <td>https://veggiedesserts.com/fruit-platter/</td>\n",
       "      <td>Downloaded</td>\n",
       "    </tr>\n",
       "    <tr>\n",
       "      <th>98</th>\n",
       "      <td>40 Most Nutritious Fruits and Vegetables, Acco...</td>\n",
       "      <td>stacker.com</td>\n",
       "      <td>https://stacker.com/stories/3273/40-most-nutri...</td>\n",
       "      <td>Downloaded</td>\n",
       "    </tr>\n",
       "    <tr>\n",
       "      <th>99</th>\n",
       "      <td>20 Red Fruits and Vegetables to Eat: Examples ...</td>\n",
       "      <td>finedininglovers.com</td>\n",
       "      <td>https://www.finedininglovers.com/article/20-re...</td>\n",
       "      <td>Downloaded</td>\n",
       "    </tr>\n",
       "  </tbody>\n",
       "</table>\n",
       "<p>100 rows × 4 columns</p>\n",
       "</div>"
      ],
      "text/plain": [
       "                                                Title  \\\n",
       "0                                              Fruits   \n",
       "1   Buy Fruits (All in One) Book Online at Low Pri...   \n",
       "2   100 Most Popular Fruits in The World | Learn N...   \n",
       "3   Is there a best time to eat fruit? Facts and m...   \n",
       "4       Fruit and Diabetes - Can Diabetics Eat Fruit?   \n",
       "..                                                ...   \n",
       "95       What Is a Fruit? · Frontiers for Young Minds   \n",
       "96    Fresh Fruits Box Delivery | Edible Arrangements   \n",
       "97  How to Make A Fruit Platter (Fruit Tray) | Veg...   \n",
       "98  40 Most Nutritious Fruits and Vegetables, Acco...   \n",
       "99  20 Red Fruits and Vegetables to Eat: Examples ...   \n",
       "\n",
       "                              Website  \\\n",
       "0                   healthyeating.org   \n",
       "1                           amazon.in   \n",
       "2                         youtube.com   \n",
       "3                medicalnewstoday.com   \n",
       "4                      diabetes.co.uk   \n",
       "..                                ...   \n",
       "95               kids.frontiersin.org   \n",
       "96  ediblearrangements.com · In stock   \n",
       "97                 veggiedesserts.com   \n",
       "98                        stacker.com   \n",
       "99               finedininglovers.com   \n",
       "\n",
       "                                                  URL      Status  \n",
       "0   https://www.healthyeating.org/Healthy-Eating/A...  Downloaded  \n",
       "1   https://www.amazon.in/Fruits-All-One-Dreamland...  Downloaded  \n",
       "2         https://www.youtube.com/watch?v=PY2OxP_jMZ0  Downloaded  \n",
       "3    https://www.medicalnewstoday.com/articles/325253  Downloaded  \n",
       "4          https://www.diabetes.co.uk/food/fruit.html  Downloaded  \n",
       "..                                                ...         ...  \n",
       "95  https://kids.frontiersin.org/article/10.3389/f...  Downloaded  \n",
       "96  https://www.ediblearrangements.com/fruit-gifts...  Downloaded  \n",
       "97          https://veggiedesserts.com/fruit-platter/  Downloaded  \n",
       "98  https://stacker.com/stories/3273/40-most-nutri...  Downloaded  \n",
       "99  https://www.finedininglovers.com/article/20-re...  Downloaded  \n",
       "\n",
       "[100 rows x 4 columns]"
      ]
     },
     "execution_count": 629,
     "metadata": {},
     "output_type": "execute_result"
    }
   ],
   "source": [
    "table=pd.DataFrame({})\n",
    "table['Title']=title[0:100]\n",
    "table['Website']=web[0:100]\n",
    "table['URL']=url[0:100]\n",
    "table['Status']=load[0:100]\n",
    "table"
   ]
  },
  {
   "cell_type": "code",
   "execution_count": 630,
   "metadata": {},
   "outputs": [],
   "source": [
    "driver.get('https://images.google.com/')"
   ]
  },
  {
   "cell_type": "markdown",
   "metadata": {},
   "source": [
    "## Searching for 'cars' and extractind data"
   ]
  },
  {
   "cell_type": "code",
   "execution_count": 631,
   "metadata": {},
   "outputs": [],
   "source": [
    "search = driver.find_element_by_xpath(\"//input[@class='gLFyf gsfi']\")\n",
    "search.send_keys(\"cars\")"
   ]
  },
  {
   "cell_type": "code",
   "execution_count": 632,
   "metadata": {},
   "outputs": [],
   "source": [
    "search_btn = driver.find_element_by_xpath(\"//button[@class='Tg7LZd']\")\n",
    "search_btn.click()"
   ]
  },
  {
   "cell_type": "code",
   "execution_count": 633,
   "metadata": {},
   "outputs": [],
   "source": [
    "title=[]\n",
    "web=[]\n",
    "url=[]"
   ]
  },
  {
   "cell_type": "code",
   "execution_count": 634,
   "metadata": {},
   "outputs": [],
   "source": [
    "for i in range(500):\n",
    "    driver.execute_script(\"window.scrollBy(0,10000)\")"
   ]
  },
  {
   "cell_type": "code",
   "execution_count": 635,
   "metadata": {},
   "outputs": [],
   "source": [
    "title_1=driver.find_elements_by_xpath(\"//a[@class='VFACy kGQAp sMi44c lNHeqe WGvvNb']\")"
   ]
  },
  {
   "cell_type": "code",
   "execution_count": 636,
   "metadata": {},
   "outputs": [],
   "source": [
    "for i in title_1:\n",
    "    a=i.get_attribute('title')\n",
    "    title.append(a)"
   ]
  },
  {
   "cell_type": "code",
   "execution_count": 637,
   "metadata": {},
   "outputs": [],
   "source": [
    "web_1=driver.find_elements_by_xpath(\"//div[@class='fxgdke']\")"
   ]
  },
  {
   "cell_type": "code",
   "execution_count": 638,
   "metadata": {},
   "outputs": [],
   "source": [
    "for i in web_1:\n",
    "    a=i.text\n",
    "    web.append(a)"
   ]
  },
  {
   "cell_type": "code",
   "execution_count": 639,
   "metadata": {},
   "outputs": [],
   "source": [
    "url_1=driver.find_elements_by_xpath(\"//div[@class='isv-r PNCib MSM1fd BUooTd']/a[2]\")"
   ]
  },
  {
   "cell_type": "code",
   "execution_count": 640,
   "metadata": {},
   "outputs": [],
   "source": [
    "url=[]\n",
    "for i in url_1:\n",
    "    a=i.get_attribute('href')\n",
    "    url.append(a)"
   ]
  },
  {
   "cell_type": "code",
   "execution_count": 641,
   "metadata": {},
   "outputs": [],
   "source": [
    " img_1=driver.find_elements_by_xpath('//img[@class=\"rg_i Q4LuWd\"]')"
   ]
  },
  {
   "cell_type": "code",
   "execution_count": 642,
   "metadata": {},
   "outputs": [],
   "source": [
    "img=[]\n",
    "for i in img_1:\n",
    "    b=i.get_attribute('src')\n",
    "    if b is not None:\n",
    "        if b[0:4]=='http':\n",
    "            img.append(b)"
   ]
  },
  {
   "cell_type": "markdown",
   "metadata": {},
   "source": [
    "## Creating a folder 'Cars' and downloading all the images"
   ]
  },
  {
   "cell_type": "code",
   "execution_count": 644,
   "metadata": {},
   "outputs": [],
   "source": [
    "path = \"C:/Users/91880/Downloads/Web Scraping Assignment 3-Q3/Cars\"\n",
    "os.mkdir(path, 0o755)"
   ]
  },
  {
   "cell_type": "code",
   "execution_count": 645,
   "metadata": {},
   "outputs": [],
   "source": [
    "load=[]\n",
    "for i in range(len(img)):\n",
    "    if i<=100:\n",
    "        n= requests.get(img[i])\n",
    "        file = open(path+\"/img\"+str(i)+\".jpg\", \"wb\")\n",
    "        file.write(n.content)\n",
    "        load.append(\"Downloaded\")"
   ]
  },
  {
   "cell_type": "markdown",
   "metadata": {},
   "source": [
    "## Creating Dataframe"
   ]
  },
  {
   "cell_type": "code",
   "execution_count": 646,
   "metadata": {},
   "outputs": [
    {
     "data": {
      "text/html": [
       "<div>\n",
       "<style scoped>\n",
       "    .dataframe tbody tr th:only-of-type {\n",
       "        vertical-align: middle;\n",
       "    }\n",
       "\n",
       "    .dataframe tbody tr th {\n",
       "        vertical-align: top;\n",
       "    }\n",
       "\n",
       "    .dataframe thead th {\n",
       "        text-align: right;\n",
       "    }\n",
       "</style>\n",
       "<table border=\"1\" class=\"dataframe\">\n",
       "  <thead>\n",
       "    <tr style=\"text-align: right;\">\n",
       "      <th></th>\n",
       "      <th>Title</th>\n",
       "      <th>Website</th>\n",
       "      <th>URL</th>\n",
       "      <th>Status</th>\n",
       "    </tr>\n",
       "  </thead>\n",
       "  <tbody>\n",
       "    <tr>\n",
       "      <th>0</th>\n",
       "      <td>Here Are The Coolest New Cars For 2020</td>\n",
       "      <td>forbes.com</td>\n",
       "      <td>https://www.forbes.com/sites/jimgorzelany/2019...</td>\n",
       "      <td>Downloaded</td>\n",
       "    </tr>\n",
       "    <tr>\n",
       "      <th>1</th>\n",
       "      <td>JD Power Says Korean Cars Beat US and Europe i...</td>\n",
       "      <td>wired.com</td>\n",
       "      <td>https://www.wired.com/story/jd-power-korean-ca...</td>\n",
       "      <td>Downloaded</td>\n",
       "    </tr>\n",
       "    <tr>\n",
       "      <th>2</th>\n",
       "      <td>Car of the Year: ExtremeTech's Best Cars for 2...</td>\n",
       "      <td>extremetech.com</td>\n",
       "      <td>https://www.extremetech.com/extreme/303740-car...</td>\n",
       "      <td>Downloaded</td>\n",
       "    </tr>\n",
       "    <tr>\n",
       "      <th>3</th>\n",
       "      <td>Upcoming cars in India: Half-a-dozen cars comi...</td>\n",
       "      <td>auto.economictimes.indiatimes.com</td>\n",
       "      <td>https://auto.economictimes.indiatimes.com/news...</td>\n",
       "      <td>Downloaded</td>\n",
       "    </tr>\n",
       "    <tr>\n",
       "      <th>4</th>\n",
       "      <td>This list of the 10 new cars owners keep the l...</td>\n",
       "      <td>businessinsider.in</td>\n",
       "      <td>https://www.businessinsider.in/business/news/t...</td>\n",
       "      <td>Downloaded</td>\n",
       "    </tr>\n",
       "    <tr>\n",
       "      <th>...</th>\n",
       "      <td>...</td>\n",
       "      <td>...</td>\n",
       "      <td>...</td>\n",
       "      <td>...</td>\n",
       "    </tr>\n",
       "    <tr>\n",
       "      <th>95</th>\n",
       "      <td>ZigWheels - New Cars, Used Cars, Bikes Prices,...</td>\n",
       "      <td>zigwheels.com</td>\n",
       "      <td>https://www.zigwheels.com/</td>\n",
       "      <td>Downloaded</td>\n",
       "    </tr>\n",
       "    <tr>\n",
       "      <th>96</th>\n",
       "      <td>Tata Motors Cars, Sedans, Hatchbacks, SUVs | T...</td>\n",
       "      <td>cars.tatamotors.com</td>\n",
       "      <td>https://cars.tatamotors.com/</td>\n",
       "      <td>Downloaded</td>\n",
       "    </tr>\n",
       "    <tr>\n",
       "      <th>97</th>\n",
       "      <td>Running cars on hydrogen: A look at India's Na...</td>\n",
       "      <td>indianexpress.com</td>\n",
       "      <td>https://indianexpress.com/article/explained/el...</td>\n",
       "      <td>Downloaded</td>\n",
       "    </tr>\n",
       "    <tr>\n",
       "      <th>98</th>\n",
       "      <td>Audi Cars Price in India, New Audi Car Models ...</td>\n",
       "      <td>cardekho.com</td>\n",
       "      <td>https://www.cardekho.com/cars/Audi</td>\n",
       "      <td>Downloaded</td>\n",
       "    </tr>\n",
       "    <tr>\n",
       "      <th>99</th>\n",
       "      <td>15 Most Beautiful Cars Available Today - Best-...</td>\n",
       "      <td>caranddriver.com</td>\n",
       "      <td>https://www.caranddriver.com/features/g1538313...</td>\n",
       "      <td>Downloaded</td>\n",
       "    </tr>\n",
       "  </tbody>\n",
       "</table>\n",
       "<p>100 rows × 4 columns</p>\n",
       "</div>"
      ],
      "text/plain": [
       "                                                Title  \\\n",
       "0              Here Are The Coolest New Cars For 2020   \n",
       "1   JD Power Says Korean Cars Beat US and Europe i...   \n",
       "2   Car of the Year: ExtremeTech's Best Cars for 2...   \n",
       "3   Upcoming cars in India: Half-a-dozen cars comi...   \n",
       "4   This list of the 10 new cars owners keep the l...   \n",
       "..                                                ...   \n",
       "95  ZigWheels - New Cars, Used Cars, Bikes Prices,...   \n",
       "96  Tata Motors Cars, Sedans, Hatchbacks, SUVs | T...   \n",
       "97  Running cars on hydrogen: A look at India's Na...   \n",
       "98  Audi Cars Price in India, New Audi Car Models ...   \n",
       "99  15 Most Beautiful Cars Available Today - Best-...   \n",
       "\n",
       "                              Website  \\\n",
       "0                          forbes.com   \n",
       "1                           wired.com   \n",
       "2                     extremetech.com   \n",
       "3   auto.economictimes.indiatimes.com   \n",
       "4                  businessinsider.in   \n",
       "..                                ...   \n",
       "95                      zigwheels.com   \n",
       "96                cars.tatamotors.com   \n",
       "97                  indianexpress.com   \n",
       "98                       cardekho.com   \n",
       "99                   caranddriver.com   \n",
       "\n",
       "                                                  URL      Status  \n",
       "0   https://www.forbes.com/sites/jimgorzelany/2019...  Downloaded  \n",
       "1   https://www.wired.com/story/jd-power-korean-ca...  Downloaded  \n",
       "2   https://www.extremetech.com/extreme/303740-car...  Downloaded  \n",
       "3   https://auto.economictimes.indiatimes.com/news...  Downloaded  \n",
       "4   https://www.businessinsider.in/business/news/t...  Downloaded  \n",
       "..                                                ...         ...  \n",
       "95                         https://www.zigwheels.com/  Downloaded  \n",
       "96                       https://cars.tatamotors.com/  Downloaded  \n",
       "97  https://indianexpress.com/article/explained/el...  Downloaded  \n",
       "98                 https://www.cardekho.com/cars/Audi  Downloaded  \n",
       "99  https://www.caranddriver.com/features/g1538313...  Downloaded  \n",
       "\n",
       "[100 rows x 4 columns]"
      ]
     },
     "execution_count": 646,
     "metadata": {},
     "output_type": "execute_result"
    }
   ],
   "source": [
    "table=pd.DataFrame({})\n",
    "table['Title']=title[0:100]\n",
    "table['Website']=web[0:100]\n",
    "table['URL']=url[0:100]\n",
    "table['Status']=load[0:100]\n",
    "table"
   ]
  },
  {
   "cell_type": "code",
   "execution_count": 647,
   "metadata": {},
   "outputs": [],
   "source": [
    "driver.get('https://images.google.com/')"
   ]
  },
  {
   "cell_type": "markdown",
   "metadata": {},
   "source": [
    "## Searching for 'Machine Learning' and extractind data"
   ]
  },
  {
   "cell_type": "code",
   "execution_count": 648,
   "metadata": {},
   "outputs": [],
   "source": [
    "search = driver.find_element_by_xpath(\"//input[@class='gLFyf gsfi']\")\n",
    "search.send_keys(\"Machine Learning\")"
   ]
  },
  {
   "cell_type": "code",
   "execution_count": 649,
   "metadata": {},
   "outputs": [],
   "source": [
    "search_btn = driver.find_element_by_xpath(\"//button[@class='Tg7LZd']\")\n",
    "search_btn.click()"
   ]
  },
  {
   "cell_type": "code",
   "execution_count": 650,
   "metadata": {},
   "outputs": [],
   "source": [
    "title=[]\n",
    "web=[]\n",
    "url=[]"
   ]
  },
  {
   "cell_type": "code",
   "execution_count": 651,
   "metadata": {},
   "outputs": [],
   "source": [
    "for i in range(500):\n",
    "    driver.execute_script(\"window.scrollBy(0,10000)\")"
   ]
  },
  {
   "cell_type": "code",
   "execution_count": 652,
   "metadata": {},
   "outputs": [],
   "source": [
    "title_1=driver.find_elements_by_xpath(\"//a[@class='VFACy kGQAp sMi44c lNHeqe WGvvNb']\")"
   ]
  },
  {
   "cell_type": "code",
   "execution_count": 653,
   "metadata": {},
   "outputs": [],
   "source": [
    "for i in title_1:\n",
    "    a=i.get_attribute('title')\n",
    "    title.append(a)"
   ]
  },
  {
   "cell_type": "code",
   "execution_count": 654,
   "metadata": {},
   "outputs": [],
   "source": [
    "web_1=driver.find_elements_by_xpath(\"//div[@class='fxgdke']\")"
   ]
  },
  {
   "cell_type": "code",
   "execution_count": 655,
   "metadata": {},
   "outputs": [],
   "source": [
    "for i in web_1:\n",
    "    a=i.text\n",
    "    web.append(a)"
   ]
  },
  {
   "cell_type": "code",
   "execution_count": 656,
   "metadata": {},
   "outputs": [],
   "source": [
    "url_1=driver.find_elements_by_xpath(\"//div[@class='isv-r PNCib MSM1fd BUooTd']/a[2]\")"
   ]
  },
  {
   "cell_type": "code",
   "execution_count": 657,
   "metadata": {},
   "outputs": [],
   "source": [
    "url=[]\n",
    "for i in url_1:\n",
    "    a=i.get_attribute('href')\n",
    "    url.append(a)"
   ]
  },
  {
   "cell_type": "code",
   "execution_count": 661,
   "metadata": {},
   "outputs": [],
   "source": [
    " img_1=driver.find_elements_by_xpath('//img[@class=\"rg_i Q4LuWd\"]')"
   ]
  },
  {
   "cell_type": "code",
   "execution_count": 662,
   "metadata": {},
   "outputs": [],
   "source": [
    "img=[]\n",
    "for i in img_1:\n",
    "    b=i.get_attribute('src')\n",
    "    if b is not None:\n",
    "        if b[0:4]=='http':\n",
    "            img.append(b)"
   ]
  },
  {
   "cell_type": "markdown",
   "metadata": {},
   "source": [
    "## Creating a folder 'Machine Learning' and downloading all the images"
   ]
  },
  {
   "cell_type": "code",
   "execution_count": 666,
   "metadata": {},
   "outputs": [],
   "source": [
    "path = \"C:/Users/91880/Downloads/Web Scraping Assignment 3-Q3/Machine Learning\"\n",
    "os.mkdir(path, 0o755)"
   ]
  },
  {
   "cell_type": "code",
   "execution_count": 667,
   "metadata": {},
   "outputs": [],
   "source": [
    "load=[]\n",
    "for i in range(len(img)):\n",
    "    if i<=100:\n",
    "        n= requests.get(img[i])\n",
    "        file = open(path+\"/img\"+str(i)+\".jpg\", \"wb\")\n",
    "        file.write(n.content)\n",
    "        load.append(\"Downloaded\")"
   ]
  },
  {
   "cell_type": "markdown",
   "metadata": {},
   "source": [
    "## Creating Dataframe"
   ]
  },
  {
   "cell_type": "code",
   "execution_count": 668,
   "metadata": {},
   "outputs": [
    {
     "data": {
      "text/html": [
       "<div>\n",
       "<style scoped>\n",
       "    .dataframe tbody tr th:only-of-type {\n",
       "        vertical-align: middle;\n",
       "    }\n",
       "\n",
       "    .dataframe tbody tr th {\n",
       "        vertical-align: top;\n",
       "    }\n",
       "\n",
       "    .dataframe thead th {\n",
       "        text-align: right;\n",
       "    }\n",
       "</style>\n",
       "<table border=\"1\" class=\"dataframe\">\n",
       "  <thead>\n",
       "    <tr style=\"text-align: right;\">\n",
       "      <th></th>\n",
       "      <th>Title</th>\n",
       "      <th>Website</th>\n",
       "      <th>URL</th>\n",
       "      <th>Status</th>\n",
       "    </tr>\n",
       "  </thead>\n",
       "  <tbody>\n",
       "    <tr>\n",
       "      <th>0</th>\n",
       "      <td>Why Machine Learning Needs Semantics Not Just ...</td>\n",
       "      <td>forbes.com</td>\n",
       "      <td>https://www.forbes.com/sites/kalevleetaru/2019...</td>\n",
       "      <td>Downloaded</td>\n",
       "    </tr>\n",
       "    <tr>\n",
       "      <th>1</th>\n",
       "      <td>What You Need To Know About Machine Learning</td>\n",
       "      <td>forbes.com</td>\n",
       "      <td>https://www.forbes.com/sites/tomtaulli/2019/03...</td>\n",
       "      <td>Downloaded</td>\n",
       "    </tr>\n",
       "    <tr>\n",
       "      <th>2</th>\n",
       "      <td>An Introduction to Machine Learning | by Anmol...</td>\n",
       "      <td>becominghuman.ai</td>\n",
       "      <td>https://becominghuman.ai/an-introduction-to-ma...</td>\n",
       "      <td>Downloaded</td>\n",
       "    </tr>\n",
       "    <tr>\n",
       "      <th>3</th>\n",
       "      <td>Machine Learning - GeeksforGeeks</td>\n",
       "      <td>geeksforgeeks.org</td>\n",
       "      <td>https://www.geeksforgeeks.org/machine-learning/</td>\n",
       "      <td>Downloaded</td>\n",
       "    </tr>\n",
       "    <tr>\n",
       "      <th>4</th>\n",
       "      <td>Machine Learning: A Primer to Laboratory Appli...</td>\n",
       "      <td>thermofisher.com</td>\n",
       "      <td>https://www.thermofisher.com/blog/connectedlab...</td>\n",
       "      <td>Downloaded</td>\n",
       "    </tr>\n",
       "    <tr>\n",
       "      <th>...</th>\n",
       "      <td>...</td>\n",
       "      <td>...</td>\n",
       "      <td>...</td>\n",
       "      <td>...</td>\n",
       "    </tr>\n",
       "    <tr>\n",
       "      <th>95</th>\n",
       "      <td>What is machine learning | why machine learnin...</td>\n",
       "      <td>verzeo.in</td>\n",
       "      <td>https://www.verzeo.in/blog-what-is-machine-lea...</td>\n",
       "      <td>Downloaded</td>\n",
       "    </tr>\n",
       "    <tr>\n",
       "      <th>96</th>\n",
       "      <td>How Machine Learning is Transforming Digital M...</td>\n",
       "      <td>aithority.com</td>\n",
       "      <td>https://aithority.com/guest-authors/how-machin...</td>\n",
       "      <td>Downloaded</td>\n",
       "    </tr>\n",
       "    <tr>\n",
       "      <th>97</th>\n",
       "      <td>The way machines learn: types of learning algo...</td>\n",
       "      <td>allerin.com</td>\n",
       "      <td>https://www.allerin.com/blog/the-way-machines-...</td>\n",
       "      <td>Downloaded</td>\n",
       "    </tr>\n",
       "    <tr>\n",
       "      <th>98</th>\n",
       "      <td>eXplore Machine Learning in Sensors - STMicroe...</td>\n",
       "      <td>st.com</td>\n",
       "      <td>https://www.st.com/content/st_com/en/campaigns...</td>\n",
       "      <td>Downloaded</td>\n",
       "    </tr>\n",
       "    <tr>\n",
       "      <th>99</th>\n",
       "      <td>What Is the Role of a Machine Learning Engineer?</td>\n",
       "      <td>techspective.net</td>\n",
       "      <td>https://techspective.net/2021/02/20/what-is-th...</td>\n",
       "      <td>Downloaded</td>\n",
       "    </tr>\n",
       "  </tbody>\n",
       "</table>\n",
       "<p>100 rows × 4 columns</p>\n",
       "</div>"
      ],
      "text/plain": [
       "                                                Title            Website  \\\n",
       "0   Why Machine Learning Needs Semantics Not Just ...         forbes.com   \n",
       "1        What You Need To Know About Machine Learning         forbes.com   \n",
       "2   An Introduction to Machine Learning | by Anmol...   becominghuman.ai   \n",
       "3                    Machine Learning - GeeksforGeeks  geeksforgeeks.org   \n",
       "4   Machine Learning: A Primer to Laboratory Appli...   thermofisher.com   \n",
       "..                                                ...                ...   \n",
       "95  What is machine learning | why machine learnin...          verzeo.in   \n",
       "96  How Machine Learning is Transforming Digital M...      aithority.com   \n",
       "97  The way machines learn: types of learning algo...        allerin.com   \n",
       "98  eXplore Machine Learning in Sensors - STMicroe...             st.com   \n",
       "99   What Is the Role of a Machine Learning Engineer?   techspective.net   \n",
       "\n",
       "                                                  URL      Status  \n",
       "0   https://www.forbes.com/sites/kalevleetaru/2019...  Downloaded  \n",
       "1   https://www.forbes.com/sites/tomtaulli/2019/03...  Downloaded  \n",
       "2   https://becominghuman.ai/an-introduction-to-ma...  Downloaded  \n",
       "3     https://www.geeksforgeeks.org/machine-learning/  Downloaded  \n",
       "4   https://www.thermofisher.com/blog/connectedlab...  Downloaded  \n",
       "..                                                ...         ...  \n",
       "95  https://www.verzeo.in/blog-what-is-machine-lea...  Downloaded  \n",
       "96  https://aithority.com/guest-authors/how-machin...  Downloaded  \n",
       "97  https://www.allerin.com/blog/the-way-machines-...  Downloaded  \n",
       "98  https://www.st.com/content/st_com/en/campaigns...  Downloaded  \n",
       "99  https://techspective.net/2021/02/20/what-is-th...  Downloaded  \n",
       "\n",
       "[100 rows x 4 columns]"
      ]
     },
     "execution_count": 668,
     "metadata": {},
     "output_type": "execute_result"
    }
   ],
   "source": [
    "table=pd.DataFrame({})\n",
    "table['Title']=title[0:100]\n",
    "table['Website']=web[0:100]\n",
    "table['URL']=url[0:100]\n",
    "table['Status']=load[0:100]\n",
    "table"
   ]
  },
  {
   "cell_type": "markdown",
   "metadata": {},
   "source": [
    "# 4. Write a python program to search for a smartphone(e.g.: Oneplus Nord, pixel 4A, etc.) on www.flipkart.com and scrape following details for all the search results displayed on 1st page. Details to be scraped: “Brand Name”, “Smartphone name”, “Colour”, “RAM”, “Storage(ROM)”, “Primary Camera”, “Secondary Camera”, “Display Size”, “Display Resolution”, “Processor”, “Processor Cores”, “Battery Capacity”, “Price”, “Product URL”. Incase if any of the details is missing then replace it by “- “. Save your results in a dataframe and CSV."
   ]
  },
  {
   "cell_type": "code",
   "execution_count": 669,
   "metadata": {},
   "outputs": [],
   "source": [
    "driver.get('https://www.flipkart.com/')"
   ]
  },
  {
   "cell_type": "markdown",
   "metadata": {},
   "source": [
    "## Searching 'smartphone' and clicking search"
   ]
  },
  {
   "cell_type": "code",
   "execution_count": 672,
   "metadata": {},
   "outputs": [],
   "source": [
    "search = driver.find_element_by_xpath(\"//input[@class='_3704LK']\")\n",
    "search.send_keys(\"smartphone\")"
   ]
  },
  {
   "cell_type": "code",
   "execution_count": 673,
   "metadata": {},
   "outputs": [],
   "source": [
    "search_btn = driver.find_element_by_xpath(\"//button[@class='L0Z3Pu']\")\n",
    "search_btn.click()"
   ]
  },
  {
   "cell_type": "markdown",
   "metadata": {},
   "source": [
    "## Extracting all the required data"
   ]
  },
  {
   "cell_type": "code",
   "execution_count": 674,
   "metadata": {},
   "outputs": [],
   "source": [
    "url_1=driver.find_elements_by_xpath(\"//a[@class='_1fQZEK']\")"
   ]
  },
  {
   "cell_type": "code",
   "execution_count": 675,
   "metadata": {},
   "outputs": [],
   "source": [
    "url=[]\n",
    "for i in url_1:\n",
    "    a=i.get_attribute('href')\n",
    "    url.append(a)"
   ]
  },
  {
   "cell_type": "code",
   "execution_count": 676,
   "metadata": {},
   "outputs": [],
   "source": [
    "brand=[]\n",
    "for i in url:\n",
    "    driver.get(i)\n",
    "    \n",
    "    brand_1=driver.find_elements_by_xpath(\"//span[@class='B_NuCI']\")\n",
    "    \n",
    "    if len(brand_1)==0:\n",
    "        brand.append(\"-\")\n",
    "        \n",
    "    else:\n",
    "        for j in brand_1:\n",
    "            b=j.text\n",
    "            c=b.split()\n",
    "            d=c[0]\n",
    "            brand.append(d)"
   ]
  },
  {
   "cell_type": "code",
   "execution_count": 679,
   "metadata": {},
   "outputs": [],
   "source": [
    "name=[]\n",
    "for i in url:\n",
    "    driver.get(i)\n",
    "    \n",
    "    name_1=driver.find_elements_by_xpath(\"//span[@class='B_NuCI']\")\n",
    "    \n",
    "    for j in name_1:\n",
    "        b=j.text\n",
    "        name.append(b)"
   ]
  },
  {
   "cell_type": "code",
   "execution_count": 681,
   "metadata": {},
   "outputs": [],
   "source": [
    "color=[]\n",
    "for i in url:\n",
    "    driver.get(i)\n",
    "    \n",
    "    read_btn = driver.find_element_by_xpath(\"//button[@class='_2KpZ6l _1FH0tX']\")\n",
    "    read_btn.click()\n",
    "    \n",
    "    color_1=driver.find_elements_by_xpath(\"//div[@class='_1UhVsV']/div[1]/table/tbody/tr[4]/td[2]\")\n",
    "    \n",
    "    for j in color_1:\n",
    "        b=j.text\n",
    "        color.append(b)"
   ]
  },
  {
   "cell_type": "code",
   "execution_count": 682,
   "metadata": {},
   "outputs": [],
   "source": [
    "ram=[]\n",
    "for i in url:\n",
    "    driver.get(i)\n",
    "    \n",
    "    read_btn = driver.find_element_by_xpath(\"//button[@class='_2KpZ6l _1FH0tX']\")\n",
    "    read_btn.click()\n",
    "    \n",
    "    ram_1=driver.find_elements_by_xpath(\"//div[@class='_1UhVsV']/div[4]/table/tbody/tr[2]/td[2]\")\n",
    "    \n",
    "    for j in ram_1:\n",
    "        b=j.text\n",
    "        ram.append(b)"
   ]
  },
  {
   "cell_type": "code",
   "execution_count": 683,
   "metadata": {},
   "outputs": [],
   "source": [
    "stor=[]\n",
    "for i in url:\n",
    "    driver.get(i)\n",
    "    \n",
    "    read_btn = driver.find_element_by_xpath(\"//button[@class='_2KpZ6l _1FH0tX']\")\n",
    "    read_btn.click()\n",
    "    \n",
    "    stor_1=driver.find_elements_by_xpath(\"//div[@class='_1UhVsV']/div[4]/table/tbody/tr[1]/td[2]\")\n",
    "    \n",
    "    for j in stor_1:\n",
    "        b=j.text\n",
    "        stor.append(b)"
   ]
  },
  {
   "cell_type": "code",
   "execution_count": 687,
   "metadata": {},
   "outputs": [],
   "source": [
    "pcam=[]\n",
    "scam=[]\n",
    "dis=[]\n",
    "res=[]\n",
    "pro=[]\n",
    "proc=[]\n",
    "batt=[]\n",
    "price=[]\n",
    "\n",
    "for i in url:\n",
    "    driver.get(i)\n",
    "    \n",
    "    time.sleep(3)\n",
    "    \n",
    "    read_btn = driver.find_element_by_xpath(\"//button[@class='_2KpZ6l _1FH0tX']\")\n",
    "    read_btn.click()\n",
    "    \n",
    "    time.sleep(3)\n",
    "    \n",
    "    pcam_1=driver.find_elements_by_xpath(\"//div[@class='_1UhVsV']/div[5]/table/tbody/tr[2]/td[2]\")\n",
    "    scam_1=driver.find_elements_by_xpath(\"//div[@class='_1UhVsV']/div[5]/table/tbody/tr[5]/td[2]\")\n",
    "    dis_1=driver.find_elements_by_xpath(\"//div[@class='_1UhVsV']/div[2]/table/tbody/tr[1]/td[2]\")\n",
    "    res_1=driver.find_elements_by_xpath(\"//div[@class='_1UhVsV']/div[2]/table/tbody/tr[2]/td[2]\")\n",
    "    pro_1=driver.find_elements_by_xpath(\"//div[@class='_1UhVsV']/div[3]/table/tbody/tr[2]/td[2]\")\n",
    "    proc_1=driver.find_elements_by_xpath(\"//div[@class='_1UhVsV']/div[3]/table/tbody/tr[3]/td[2]\")\n",
    "    batt_1=driver.find_elements_by_xpath(\"//div[@class='_2418kt']/ul/li[4]\")\n",
    "    price_1=driver.find_elements_by_xpath(\"//div[@class='_30jeq3 _16Jk6d']\")\n",
    "    \n",
    "    \n",
    "    for j in pcam_1:\n",
    "        b=j.text\n",
    "        pcam.append(b)\n",
    "    \n",
    "    for j in scam_1:\n",
    "        b=j.text\n",
    "        scam.append(b)\n",
    "        \n",
    "    for j in dis_1:\n",
    "        b=j.text\n",
    "        dis.append(b)\n",
    "        \n",
    "    for j in res_1:\n",
    "        b=j.text\n",
    "        res.append(b)\n",
    "        \n",
    "    for j in pro_1:\n",
    "        b=j.text\n",
    "        pro.append(b)\n",
    "        \n",
    "    for j in proc_1:\n",
    "        b=j.text\n",
    "        proc.append(b)\n",
    "        \n",
    "    for j in batt_1:\n",
    "        b=j.text\n",
    "        batt.append(b)\n",
    "        \n",
    "    for j in price_1:\n",
    "        b=j.text\n",
    "        price.append(b)"
   ]
  },
  {
   "cell_type": "markdown",
   "metadata": {},
   "source": [
    "## Creating Dataframe an saving as CSV"
   ]
  },
  {
   "cell_type": "code",
   "execution_count": 689,
   "metadata": {
    "scrolled": false
   },
   "outputs": [
    {
     "data": {
      "text/html": [
       "<div>\n",
       "<style scoped>\n",
       "    .dataframe tbody tr th:only-of-type {\n",
       "        vertical-align: middle;\n",
       "    }\n",
       "\n",
       "    .dataframe tbody tr th {\n",
       "        vertical-align: top;\n",
       "    }\n",
       "\n",
       "    .dataframe thead th {\n",
       "        text-align: right;\n",
       "    }\n",
       "</style>\n",
       "<table border=\"1\" class=\"dataframe\">\n",
       "  <thead>\n",
       "    <tr style=\"text-align: right;\">\n",
       "      <th></th>\n",
       "      <th>Brand Name</th>\n",
       "      <th>Mobile Name</th>\n",
       "      <th>Color</th>\n",
       "      <th>RAM</th>\n",
       "      <th>Storage(ROM)</th>\n",
       "      <th>Primary Camera</th>\n",
       "      <th>Secondary Camera</th>\n",
       "      <th>Display Size</th>\n",
       "      <th>Display Resolution</th>\n",
       "      <th>Processor</th>\n",
       "      <th>Processor Cores</th>\n",
       "      <th>Battery Capacity</th>\n",
       "      <th>Price</th>\n",
       "      <th>Product URL</th>\n",
       "    </tr>\n",
       "  </thead>\n",
       "  <tbody>\n",
       "    <tr>\n",
       "      <th>0</th>\n",
       "      <td>Realme</td>\n",
       "      <td>Realme C11 (Rich Green, 32 GB)  (2 GB RAM)</td>\n",
       "      <td>Rich Green</td>\n",
       "      <td>2 GB</td>\n",
       "      <td>32 GB</td>\n",
       "      <td>13MP + 2MP</td>\n",
       "      <td>5MP Front Camera</td>\n",
       "      <td>16.51 cm (6.5 inch)</td>\n",
       "      <td>1600 x 720 Pixels</td>\n",
       "      <td>Mediatek Helio G35</td>\n",
       "      <td>Octa Core</td>\n",
       "      <td>5000 mAh Battery</td>\n",
       "      <td>₹7,499</td>\n",
       "      <td>https://www.flipkart.com/realme-c11-rich-green...</td>\n",
       "    </tr>\n",
       "    <tr>\n",
       "      <th>1</th>\n",
       "      <td>Realme</td>\n",
       "      <td>Realme C11 (Rich Grey, 32 GB)  (2 GB RAM)</td>\n",
       "      <td>Rich Grey</td>\n",
       "      <td>2 GB</td>\n",
       "      <td>32 GB</td>\n",
       "      <td>13MP + 2MP</td>\n",
       "      <td>5MP Front Camera</td>\n",
       "      <td>16.51 cm (6.5 inch)</td>\n",
       "      <td>1600 x 720 Pixels</td>\n",
       "      <td>Mediatek Helio G35</td>\n",
       "      <td>Octa Core</td>\n",
       "      <td>5000 mAh Battery</td>\n",
       "      <td>₹7,499</td>\n",
       "      <td>https://www.flipkart.com/realme-c11-rich-grey-...</td>\n",
       "    </tr>\n",
       "    <tr>\n",
       "      <th>2</th>\n",
       "      <td>POCO</td>\n",
       "      <td>POCO M3 (Cool Blue, 64 GB)  (6 GB RAM)</td>\n",
       "      <td>Cool Blue</td>\n",
       "      <td>6 GB</td>\n",
       "      <td>64 GB</td>\n",
       "      <td>48MP + 2MP + 2MP</td>\n",
       "      <td>8MP Front Camera</td>\n",
       "      <td>16.59 cm (6.53 inch)</td>\n",
       "      <td>2340 x 1080 Pixels</td>\n",
       "      <td>Qualcomm Snapdragon 662</td>\n",
       "      <td>Octa Core</td>\n",
       "      <td>6000 mAh Lithium-ion Polymer Battery</td>\n",
       "      <td>₹10,999</td>\n",
       "      <td>https://www.flipkart.com/poco-m3-cool-blue-64-...</td>\n",
       "    </tr>\n",
       "    <tr>\n",
       "      <th>3</th>\n",
       "      <td>Coolpad</td>\n",
       "      <td>Coolpad Mega 5C (Gold, 16 GB)  (2 GB RAM)</td>\n",
       "      <td>Gold</td>\n",
       "      <td>2 GB</td>\n",
       "      <td>16 GB</td>\n",
       "      <td>48MP + 2MP + 2MP</td>\n",
       "      <td>8MP Front Camera</td>\n",
       "      <td>13.84 cm (5.45 inch)</td>\n",
       "      <td>1280 x 720$$Pixles</td>\n",
       "      <td>1.3 GHz</td>\n",
       "      <td>Octa Core</td>\n",
       "      <td>2500 mAh Battery</td>\n",
       "      <td>₹4,399</td>\n",
       "      <td>https://www.flipkart.com/coolpad-mega-5c-gold-...</td>\n",
       "    </tr>\n",
       "    <tr>\n",
       "      <th>4</th>\n",
       "      <td>POCO</td>\n",
       "      <td>POCO M3 (Power Black, 64 GB)  (6 GB RAM)</td>\n",
       "      <td>Power Black</td>\n",
       "      <td>6 GB</td>\n",
       "      <td>64 GB</td>\n",
       "      <td>12MP + 2MP + 2MP</td>\n",
       "      <td>8MP Front Camera</td>\n",
       "      <td>16.59 cm (6.53 inch)</td>\n",
       "      <td>2340 x 1080 Pixels</td>\n",
       "      <td>Qualcomm Snapdragon 662</td>\n",
       "      <td>Octa Core</td>\n",
       "      <td>6000 mAh Lithium-ion Polymer Battery</td>\n",
       "      <td>₹10,999</td>\n",
       "      <td>https://www.flipkart.com/poco-m3-power-black-6...</td>\n",
       "    </tr>\n",
       "    <tr>\n",
       "      <th>5</th>\n",
       "      <td>Realme</td>\n",
       "      <td>Realme Narzo 20A (Glory Silver, 64 GB)  (4 GB ...</td>\n",
       "      <td>Glory Silver</td>\n",
       "      <td>4 GB</td>\n",
       "      <td>64 GB</td>\n",
       "      <td>13MP + 2MP + 2MP</td>\n",
       "      <td>5MP Front Camera</td>\n",
       "      <td>16.51 cm (6.5 inch)</td>\n",
       "      <td>1600 x 720 Pixels</td>\n",
       "      <td>Qualcomm Snapdragon 665</td>\n",
       "      <td>Octa Core</td>\n",
       "      <td>5000 mAh Lithium-ion Battery</td>\n",
       "      <td>₹9,499</td>\n",
       "      <td>https://www.flipkart.com/realme-narzo-20a-glor...</td>\n",
       "    </tr>\n",
       "    <tr>\n",
       "      <th>6</th>\n",
       "      <td>POCO</td>\n",
       "      <td>POCO C3 (Arctic Blue, 32 GB)  (3 GB RAM)</td>\n",
       "      <td>Arctic Blue</td>\n",
       "      <td>3 GB</td>\n",
       "      <td>32 GB</td>\n",
       "      <td>13MP + 8MP + 5MP + 2MP</td>\n",
       "      <td>8MP Front Camera</td>\n",
       "      <td>16.59 cm (6.53 inch)</td>\n",
       "      <td>1600 x 720 Pixels</td>\n",
       "      <td>Mediatek Helio G35</td>\n",
       "      <td>Octa Core</td>\n",
       "      <td>5000 mAh Li-ion Polymer Battery</td>\n",
       "      <td>₹7,499</td>\n",
       "      <td>https://www.flipkart.com/poco-c3-arctic-blue-3...</td>\n",
       "    </tr>\n",
       "    <tr>\n",
       "      <th>7</th>\n",
       "      <td>POCO</td>\n",
       "      <td>POCO M2 (Slate Blue, 64 GB)  (6 GB RAM)</td>\n",
       "      <td>Slate Blue</td>\n",
       "      <td>6 GB</td>\n",
       "      <td>64 GB</td>\n",
       "      <td>13MP Rear Camera</td>\n",
       "      <td>5MP Front Camera</td>\n",
       "      <td>16.59 cm (6.53 inch)</td>\n",
       "      <td>2340 x 1080 Pixels</td>\n",
       "      <td>MediaTek Helio G80</td>\n",
       "      <td>Octa Core</td>\n",
       "      <td>5000 mAh Lithium Polymer Battery</td>\n",
       "      <td>₹9,999</td>\n",
       "      <td>https://www.flipkart.com/poco-m2-slate-blue-64...</td>\n",
       "    </tr>\n",
       "    <tr>\n",
       "      <th>8</th>\n",
       "      <td>Redmi</td>\n",
       "      <td>Redmi 9i (Sea Blue, 64 GB)  (4 GB RAM)</td>\n",
       "      <td>Sea Blue</td>\n",
       "      <td>4 GB</td>\n",
       "      <td>64 GB</td>\n",
       "      <td>48MP + 8MP + 2MP</td>\n",
       "      <td>8MP Front Camera</td>\n",
       "      <td>16.59 cm (6.53 inch)</td>\n",
       "      <td>1600 x 720 Pixels</td>\n",
       "      <td>MediaTek Helio G25</td>\n",
       "      <td>Octa Core</td>\n",
       "      <td>5000 mAh Lithium Polymer Battery</td>\n",
       "      <td>₹7,999</td>\n",
       "      <td>https://www.flipkart.com/redmi-9i-sea-blue-64-...</td>\n",
       "    </tr>\n",
       "    <tr>\n",
       "      <th>9</th>\n",
       "      <td>Realme</td>\n",
       "      <td>Realme Narzo 20 (Victory Blue, 128 GB)  (4 GB ...</td>\n",
       "      <td>Victory Blue</td>\n",
       "      <td>4 GB</td>\n",
       "      <td>128 GB</td>\n",
       "      <td>48MP + 8MP + 2MP</td>\n",
       "      <td>8MP Front Camera</td>\n",
       "      <td>16.56 cm (6.52 inch)</td>\n",
       "      <td>1600 x 720 Pixels</td>\n",
       "      <td>MediaTek Helio G85</td>\n",
       "      <td>Octa Core</td>\n",
       "      <td>6000 mAh Lithium-ion Battery</td>\n",
       "      <td>₹11,499</td>\n",
       "      <td>https://www.flipkart.com/realme-narzo-20-victo...</td>\n",
       "    </tr>\n",
       "    <tr>\n",
       "      <th>10</th>\n",
       "      <td>Realme</td>\n",
       "      <td>Realme Narzo 20 (Glory Silver, 128 GB)  (4 GB ...</td>\n",
       "      <td>Glory Silver</td>\n",
       "      <td>4 GB</td>\n",
       "      <td>128 GB</td>\n",
       "      <td>13MP Rear Camera</td>\n",
       "      <td>8MP Front Camera</td>\n",
       "      <td>16.56 cm (6.52 inch)</td>\n",
       "      <td>1600 x 720 Pixels</td>\n",
       "      <td>MediaTek Helio G85</td>\n",
       "      <td>Octa Core</td>\n",
       "      <td>6000 mAh Lithium-ion Battery</td>\n",
       "      <td>₹11,499</td>\n",
       "      <td>https://www.flipkart.com/realme-narzo-20-glory...</td>\n",
       "    </tr>\n",
       "    <tr>\n",
       "      <th>11</th>\n",
       "      <td>Redmi</td>\n",
       "      <td>Redmi 9 Prime (Space Blue, 64 GB)  (4 GB RAM)</td>\n",
       "      <td>Space Blue</td>\n",
       "      <td>4 GB</td>\n",
       "      <td>64 GB</td>\n",
       "      <td>12MP + 2MP + 2MP</td>\n",
       "      <td>8MP Front Camera</td>\n",
       "      <td>16.59 cm (6.53 inch)</td>\n",
       "      <td>2340 x 1080 Pixels</td>\n",
       "      <td>MediaTek Helio G80</td>\n",
       "      <td>Octa Core</td>\n",
       "      <td>5020 mAh Battery</td>\n",
       "      <td>₹9,499</td>\n",
       "      <td>https://www.flipkart.com/redmi-9-prime-space-b...</td>\n",
       "    </tr>\n",
       "    <tr>\n",
       "      <th>12</th>\n",
       "      <td>Realme</td>\n",
       "      <td>Realme Narzo 20A (Glory Silver, 32 GB)  (3 GB ...</td>\n",
       "      <td>Glory Silver</td>\n",
       "      <td>3 GB</td>\n",
       "      <td>32 GB</td>\n",
       "      <td>13MP Rear Camera</td>\n",
       "      <td>5MP Front Camera</td>\n",
       "      <td>16.51 cm (6.5 inch)</td>\n",
       "      <td>1600 x 720 Pixels</td>\n",
       "      <td>Qualcomm Snapdragon 665</td>\n",
       "      <td>Octa Core</td>\n",
       "      <td>5000 mAh Lithium-ion Battery</td>\n",
       "      <td>₹8,499</td>\n",
       "      <td>https://www.flipkart.com/realme-narzo-20a-glor...</td>\n",
       "    </tr>\n",
       "    <tr>\n",
       "      <th>13</th>\n",
       "      <td>Redmi</td>\n",
       "      <td>Redmi 9i (Midnight Black, 64 GB)  (4 GB RAM)</td>\n",
       "      <td>Midnight Black</td>\n",
       "      <td>4 GB</td>\n",
       "      <td>64 GB</td>\n",
       "      <td>13MP + 2MP + 2MP</td>\n",
       "      <td>5MP Front Camera</td>\n",
       "      <td>16.59 cm (6.53 inch)</td>\n",
       "      <td>1600 x 720 Pixels</td>\n",
       "      <td>MediaTek Helio G25</td>\n",
       "      <td>Octa Core</td>\n",
       "      <td>5000 mAh Lithium Polymer Battery</td>\n",
       "      <td>₹7,999</td>\n",
       "      <td>https://www.flipkart.com/redmi-9i-midnight-bla...</td>\n",
       "    </tr>\n",
       "    <tr>\n",
       "      <th>14</th>\n",
       "      <td>POCO</td>\n",
       "      <td>POCO C3 (Lime Green, 64 GB)  (4 GB RAM)</td>\n",
       "      <td>Lime Green</td>\n",
       "      <td>4 GB</td>\n",
       "      <td>64 GB</td>\n",
       "      <td>13MP + 8MP + 5MP + 2MP</td>\n",
       "      <td>8MP Front Camera</td>\n",
       "      <td>16.59 cm (6.53 inch)</td>\n",
       "      <td>1600 x 720 Pixels</td>\n",
       "      <td>Mediatek Helio G35</td>\n",
       "      <td>Octa Core</td>\n",
       "      <td>5000 mAh Li-ion Polymer Battery</td>\n",
       "      <td>₹8,499</td>\n",
       "      <td>https://www.flipkart.com/poco-c3-lime-green-64...</td>\n",
       "    </tr>\n",
       "    <tr>\n",
       "      <th>15</th>\n",
       "      <td>POCO</td>\n",
       "      <td>POCO M2 (Pitch Black, 64 GB)  (6 GB RAM)</td>\n",
       "      <td>Pitch Black</td>\n",
       "      <td>6 GB</td>\n",
       "      <td>64 GB</td>\n",
       "      <td>13MP + 2MP + 2MP</td>\n",
       "      <td>5MP Front Camera</td>\n",
       "      <td>16.59 cm (6.53 inch)</td>\n",
       "      <td>2340 x 1080 Pixels</td>\n",
       "      <td>MediaTek Helio G80</td>\n",
       "      <td>Octa Core</td>\n",
       "      <td>5000 mAh Lithium Polymer Battery</td>\n",
       "      <td>₹9,999</td>\n",
       "      <td>https://www.flipkart.com/poco-m2-pitch-black-6...</td>\n",
       "    </tr>\n",
       "    <tr>\n",
       "      <th>16</th>\n",
       "      <td>POCO</td>\n",
       "      <td>POCO C3 (Lime Green, 32 GB)  (3 GB RAM)</td>\n",
       "      <td>Lime Green</td>\n",
       "      <td>3 GB</td>\n",
       "      <td>32 GB</td>\n",
       "      <td>13MP + 2MP + 2MP</td>\n",
       "      <td>5MP Front Camera</td>\n",
       "      <td>16.59 cm (6.53 inch)</td>\n",
       "      <td>1600 x 720 Pixels</td>\n",
       "      <td>Mediatek Helio G35</td>\n",
       "      <td>Octa Core</td>\n",
       "      <td>5000 mAh Li-ion Polymer Battery</td>\n",
       "      <td>₹7,499</td>\n",
       "      <td>https://www.flipkart.com/poco-c3-lime-green-32...</td>\n",
       "    </tr>\n",
       "    <tr>\n",
       "      <th>17</th>\n",
       "      <td>POCO</td>\n",
       "      <td>POCO C3 (Matte Black, 32 GB)  (3 GB RAM)</td>\n",
       "      <td>Matte Black</td>\n",
       "      <td>3 GB</td>\n",
       "      <td>32 GB</td>\n",
       "      <td>13MP Rear Camera</td>\n",
       "      <td>5MP Front Camera</td>\n",
       "      <td>16.59 cm (6.53 inch)</td>\n",
       "      <td>1600 x 720 Pixels</td>\n",
       "      <td>Mediatek Helio G35</td>\n",
       "      <td>Octa Core</td>\n",
       "      <td>5000 mAh Li-ion Polymer Battery</td>\n",
       "      <td>₹7,499</td>\n",
       "      <td>https://www.flipkart.com/poco-c3-matte-black-3...</td>\n",
       "    </tr>\n",
       "    <tr>\n",
       "      <th>18</th>\n",
       "      <td>Redmi</td>\n",
       "      <td>Redmi 9i (Nature Green, 64 GB)  (4 GB RAM)</td>\n",
       "      <td>Nature Green</td>\n",
       "      <td>4 GB</td>\n",
       "      <td>64 GB</td>\n",
       "      <td>64MP + 8MP + 2MP + 2MP</td>\n",
       "      <td>16MP Front Camera</td>\n",
       "      <td>16.59 cm (6.53 inch)</td>\n",
       "      <td>1600 x 720 Pixels</td>\n",
       "      <td>MediaTek Helio G25</td>\n",
       "      <td>Octa Core</td>\n",
       "      <td>5000 mAh Lithium Polymer Battery</td>\n",
       "      <td>₹7,999</td>\n",
       "      <td>https://www.flipkart.com/redmi-9i-nature-green...</td>\n",
       "    </tr>\n",
       "    <tr>\n",
       "      <th>19</th>\n",
       "      <td>Realme</td>\n",
       "      <td>Realme 7i (Fusion Green, 64 GB)  (4 GB RAM)</td>\n",
       "      <td>Fusion Green</td>\n",
       "      <td>4 GB</td>\n",
       "      <td>64 GB</td>\n",
       "      <td>13MP Rear Camera</td>\n",
       "      <td>8MP Front Camera</td>\n",
       "      <td>16.51 cm (6.5 inch)</td>\n",
       "      <td>1600 x 720 Pixels</td>\n",
       "      <td>Qualcomm Snapdragon 662</td>\n",
       "      <td>Octa Core</td>\n",
       "      <td>5000 mAh Lithium-ion Battery</td>\n",
       "      <td>₹11,999</td>\n",
       "      <td>https://www.flipkart.com/realme-7i-fusion-gree...</td>\n",
       "    </tr>\n",
       "    <tr>\n",
       "      <th>20</th>\n",
       "      <td>Redmi</td>\n",
       "      <td>Redmi 9 Prime (Mint Green, 64 GB)  (4 GB RAM)</td>\n",
       "      <td>Mint Green</td>\n",
       "      <td>4 GB</td>\n",
       "      <td>64 GB</td>\n",
       "      <td>64MP + 8MP + 2MP + 2MP</td>\n",
       "      <td>16MP Front Camera</td>\n",
       "      <td>16.59 cm (6.53 inch)</td>\n",
       "      <td>2340 x 1080 Pixels</td>\n",
       "      <td>MediaTek Helio G80</td>\n",
       "      <td>Octa Core</td>\n",
       "      <td>5020 mAh Battery</td>\n",
       "      <td>₹9,499</td>\n",
       "      <td>https://www.flipkart.com/redmi-9-prime-mint-gr...</td>\n",
       "    </tr>\n",
       "    <tr>\n",
       "      <th>21</th>\n",
       "      <td>Realme</td>\n",
       "      <td>Realme 7i (Fusion Blue, 64 GB)  (4 GB RAM)</td>\n",
       "      <td>Fusion Blue</td>\n",
       "      <td>4 GB</td>\n",
       "      <td>64 GB</td>\n",
       "      <td>13MP + 2MP + 2MP</td>\n",
       "      <td>5MP Front Camera</td>\n",
       "      <td>16.51 cm (6.5 inch)</td>\n",
       "      <td>1600 x 720 Pixels</td>\n",
       "      <td>Qualcomm Snapdragon 662</td>\n",
       "      <td>Octa Core</td>\n",
       "      <td>5000 mAh Lithium-ion Battery</td>\n",
       "      <td>₹11,999</td>\n",
       "      <td>https://www.flipkart.com/realme-7i-fusion-blue...</td>\n",
       "    </tr>\n",
       "    <tr>\n",
       "      <th>22</th>\n",
       "      <td>POCO</td>\n",
       "      <td>POCO C3 (Arctic Blue, 64 GB)  (4 GB RAM)</td>\n",
       "      <td>Arctic Blue</td>\n",
       "      <td>4 GB</td>\n",
       "      <td>64 GB</td>\n",
       "      <td>64MP + 8MP + 2MP</td>\n",
       "      <td>Yes</td>\n",
       "      <td>16.59 cm (6.53 inch)</td>\n",
       "      <td>1600 x 720 Pixels</td>\n",
       "      <td>Mediatek Helio G35</td>\n",
       "      <td>Octa Core</td>\n",
       "      <td>5000 mAh Li-ion Polymer Battery</td>\n",
       "      <td>₹8,499</td>\n",
       "      <td>https://www.flipkart.com/poco-c3-arctic-blue-6...</td>\n",
       "    </tr>\n",
       "  </tbody>\n",
       "</table>\n",
       "</div>"
      ],
      "text/plain": [
       "   Brand Name                                        Mobile Name  \\\n",
       "0      Realme         Realme C11 (Rich Green, 32 GB)  (2 GB RAM)   \n",
       "1      Realme          Realme C11 (Rich Grey, 32 GB)  (2 GB RAM)   \n",
       "2        POCO             POCO M3 (Cool Blue, 64 GB)  (6 GB RAM)   \n",
       "3     Coolpad          Coolpad Mega 5C (Gold, 16 GB)  (2 GB RAM)   \n",
       "4        POCO           POCO M3 (Power Black, 64 GB)  (6 GB RAM)   \n",
       "5      Realme  Realme Narzo 20A (Glory Silver, 64 GB)  (4 GB ...   \n",
       "6        POCO           POCO C3 (Arctic Blue, 32 GB)  (3 GB RAM)   \n",
       "7        POCO            POCO M2 (Slate Blue, 64 GB)  (6 GB RAM)   \n",
       "8       Redmi             Redmi 9i (Sea Blue, 64 GB)  (4 GB RAM)   \n",
       "9      Realme  Realme Narzo 20 (Victory Blue, 128 GB)  (4 GB ...   \n",
       "10     Realme  Realme Narzo 20 (Glory Silver, 128 GB)  (4 GB ...   \n",
       "11      Redmi      Redmi 9 Prime (Space Blue, 64 GB)  (4 GB RAM)   \n",
       "12     Realme  Realme Narzo 20A (Glory Silver, 32 GB)  (3 GB ...   \n",
       "13      Redmi       Redmi 9i (Midnight Black, 64 GB)  (4 GB RAM)   \n",
       "14       POCO            POCO C3 (Lime Green, 64 GB)  (4 GB RAM)   \n",
       "15       POCO           POCO M2 (Pitch Black, 64 GB)  (6 GB RAM)   \n",
       "16       POCO            POCO C3 (Lime Green, 32 GB)  (3 GB RAM)   \n",
       "17       POCO           POCO C3 (Matte Black, 32 GB)  (3 GB RAM)   \n",
       "18      Redmi         Redmi 9i (Nature Green, 64 GB)  (4 GB RAM)   \n",
       "19     Realme        Realme 7i (Fusion Green, 64 GB)  (4 GB RAM)   \n",
       "20      Redmi      Redmi 9 Prime (Mint Green, 64 GB)  (4 GB RAM)   \n",
       "21     Realme         Realme 7i (Fusion Blue, 64 GB)  (4 GB RAM)   \n",
       "22       POCO           POCO C3 (Arctic Blue, 64 GB)  (4 GB RAM)   \n",
       "\n",
       "             Color   RAM Storage(ROM)          Primary Camera  \\\n",
       "0       Rich Green  2 GB        32 GB              13MP + 2MP   \n",
       "1        Rich Grey  2 GB        32 GB              13MP + 2MP   \n",
       "2        Cool Blue  6 GB        64 GB        48MP + 2MP + 2MP   \n",
       "3             Gold  2 GB        16 GB        48MP + 2MP + 2MP   \n",
       "4      Power Black  6 GB        64 GB        12MP + 2MP + 2MP   \n",
       "5     Glory Silver  4 GB        64 GB        13MP + 2MP + 2MP   \n",
       "6      Arctic Blue  3 GB        32 GB  13MP + 8MP + 5MP + 2MP   \n",
       "7       Slate Blue  6 GB        64 GB        13MP Rear Camera   \n",
       "8         Sea Blue  4 GB        64 GB        48MP + 8MP + 2MP   \n",
       "9     Victory Blue  4 GB       128 GB        48MP + 8MP + 2MP   \n",
       "10    Glory Silver  4 GB       128 GB        13MP Rear Camera   \n",
       "11      Space Blue  4 GB        64 GB        12MP + 2MP + 2MP   \n",
       "12    Glory Silver  3 GB        32 GB        13MP Rear Camera   \n",
       "13  Midnight Black  4 GB        64 GB        13MP + 2MP + 2MP   \n",
       "14      Lime Green  4 GB        64 GB  13MP + 8MP + 5MP + 2MP   \n",
       "15     Pitch Black  6 GB        64 GB        13MP + 2MP + 2MP   \n",
       "16      Lime Green  3 GB        32 GB        13MP + 2MP + 2MP   \n",
       "17     Matte Black  3 GB        32 GB        13MP Rear Camera   \n",
       "18    Nature Green  4 GB        64 GB  64MP + 8MP + 2MP + 2MP   \n",
       "19    Fusion Green  4 GB        64 GB        13MP Rear Camera   \n",
       "20      Mint Green  4 GB        64 GB  64MP + 8MP + 2MP + 2MP   \n",
       "21     Fusion Blue  4 GB        64 GB        13MP + 2MP + 2MP   \n",
       "22     Arctic Blue  4 GB        64 GB        64MP + 8MP + 2MP   \n",
       "\n",
       "     Secondary Camera          Display Size  Display Resolution  \\\n",
       "0    5MP Front Camera   16.51 cm (6.5 inch)   1600 x 720 Pixels   \n",
       "1    5MP Front Camera   16.51 cm (6.5 inch)   1600 x 720 Pixels   \n",
       "2    8MP Front Camera  16.59 cm (6.53 inch)  2340 x 1080 Pixels   \n",
       "3    8MP Front Camera  13.84 cm (5.45 inch)  1280 x 720$$Pixles   \n",
       "4    8MP Front Camera  16.59 cm (6.53 inch)  2340 x 1080 Pixels   \n",
       "5    5MP Front Camera   16.51 cm (6.5 inch)   1600 x 720 Pixels   \n",
       "6    8MP Front Camera  16.59 cm (6.53 inch)   1600 x 720 Pixels   \n",
       "7    5MP Front Camera  16.59 cm (6.53 inch)  2340 x 1080 Pixels   \n",
       "8    8MP Front Camera  16.59 cm (6.53 inch)   1600 x 720 Pixels   \n",
       "9    8MP Front Camera  16.56 cm (6.52 inch)   1600 x 720 Pixels   \n",
       "10   8MP Front Camera  16.56 cm (6.52 inch)   1600 x 720 Pixels   \n",
       "11   8MP Front Camera  16.59 cm (6.53 inch)  2340 x 1080 Pixels   \n",
       "12   5MP Front Camera   16.51 cm (6.5 inch)   1600 x 720 Pixels   \n",
       "13   5MP Front Camera  16.59 cm (6.53 inch)   1600 x 720 Pixels   \n",
       "14   8MP Front Camera  16.59 cm (6.53 inch)   1600 x 720 Pixels   \n",
       "15   5MP Front Camera  16.59 cm (6.53 inch)  2340 x 1080 Pixels   \n",
       "16   5MP Front Camera  16.59 cm (6.53 inch)   1600 x 720 Pixels   \n",
       "17   5MP Front Camera  16.59 cm (6.53 inch)   1600 x 720 Pixels   \n",
       "18  16MP Front Camera  16.59 cm (6.53 inch)   1600 x 720 Pixels   \n",
       "19   8MP Front Camera   16.51 cm (6.5 inch)   1600 x 720 Pixels   \n",
       "20  16MP Front Camera  16.59 cm (6.53 inch)  2340 x 1080 Pixels   \n",
       "21   5MP Front Camera   16.51 cm (6.5 inch)   1600 x 720 Pixels   \n",
       "22                Yes  16.59 cm (6.53 inch)   1600 x 720 Pixels   \n",
       "\n",
       "                  Processor Processor Cores  \\\n",
       "0        Mediatek Helio G35       Octa Core   \n",
       "1        Mediatek Helio G35       Octa Core   \n",
       "2   Qualcomm Snapdragon 662       Octa Core   \n",
       "3                   1.3 GHz       Octa Core   \n",
       "4   Qualcomm Snapdragon 662       Octa Core   \n",
       "5   Qualcomm Snapdragon 665       Octa Core   \n",
       "6        Mediatek Helio G35       Octa Core   \n",
       "7        MediaTek Helio G80       Octa Core   \n",
       "8        MediaTek Helio G25       Octa Core   \n",
       "9        MediaTek Helio G85       Octa Core   \n",
       "10       MediaTek Helio G85       Octa Core   \n",
       "11       MediaTek Helio G80       Octa Core   \n",
       "12  Qualcomm Snapdragon 665       Octa Core   \n",
       "13       MediaTek Helio G25       Octa Core   \n",
       "14       Mediatek Helio G35       Octa Core   \n",
       "15       MediaTek Helio G80       Octa Core   \n",
       "16       Mediatek Helio G35       Octa Core   \n",
       "17       Mediatek Helio G35       Octa Core   \n",
       "18       MediaTek Helio G25       Octa Core   \n",
       "19  Qualcomm Snapdragon 662       Octa Core   \n",
       "20       MediaTek Helio G80       Octa Core   \n",
       "21  Qualcomm Snapdragon 662       Octa Core   \n",
       "22       Mediatek Helio G35       Octa Core   \n",
       "\n",
       "                        Battery Capacity    Price  \\\n",
       "0                       5000 mAh Battery   ₹7,499   \n",
       "1                       5000 mAh Battery   ₹7,499   \n",
       "2   6000 mAh Lithium-ion Polymer Battery  ₹10,999   \n",
       "3                       2500 mAh Battery   ₹4,399   \n",
       "4   6000 mAh Lithium-ion Polymer Battery  ₹10,999   \n",
       "5           5000 mAh Lithium-ion Battery   ₹9,499   \n",
       "6        5000 mAh Li-ion Polymer Battery   ₹7,499   \n",
       "7       5000 mAh Lithium Polymer Battery   ₹9,999   \n",
       "8       5000 mAh Lithium Polymer Battery   ₹7,999   \n",
       "9           6000 mAh Lithium-ion Battery  ₹11,499   \n",
       "10          6000 mAh Lithium-ion Battery  ₹11,499   \n",
       "11                      5020 mAh Battery   ₹9,499   \n",
       "12          5000 mAh Lithium-ion Battery   ₹8,499   \n",
       "13      5000 mAh Lithium Polymer Battery   ₹7,999   \n",
       "14       5000 mAh Li-ion Polymer Battery   ₹8,499   \n",
       "15      5000 mAh Lithium Polymer Battery   ₹9,999   \n",
       "16       5000 mAh Li-ion Polymer Battery   ₹7,499   \n",
       "17       5000 mAh Li-ion Polymer Battery   ₹7,499   \n",
       "18      5000 mAh Lithium Polymer Battery   ₹7,999   \n",
       "19          5000 mAh Lithium-ion Battery  ₹11,999   \n",
       "20                      5020 mAh Battery   ₹9,499   \n",
       "21          5000 mAh Lithium-ion Battery  ₹11,999   \n",
       "22       5000 mAh Li-ion Polymer Battery   ₹8,499   \n",
       "\n",
       "                                          Product URL  \n",
       "0   https://www.flipkart.com/realme-c11-rich-green...  \n",
       "1   https://www.flipkart.com/realme-c11-rich-grey-...  \n",
       "2   https://www.flipkart.com/poco-m3-cool-blue-64-...  \n",
       "3   https://www.flipkart.com/coolpad-mega-5c-gold-...  \n",
       "4   https://www.flipkart.com/poco-m3-power-black-6...  \n",
       "5   https://www.flipkart.com/realme-narzo-20a-glor...  \n",
       "6   https://www.flipkart.com/poco-c3-arctic-blue-3...  \n",
       "7   https://www.flipkart.com/poco-m2-slate-blue-64...  \n",
       "8   https://www.flipkart.com/redmi-9i-sea-blue-64-...  \n",
       "9   https://www.flipkart.com/realme-narzo-20-victo...  \n",
       "10  https://www.flipkart.com/realme-narzo-20-glory...  \n",
       "11  https://www.flipkart.com/redmi-9-prime-space-b...  \n",
       "12  https://www.flipkart.com/realme-narzo-20a-glor...  \n",
       "13  https://www.flipkart.com/redmi-9i-midnight-bla...  \n",
       "14  https://www.flipkart.com/poco-c3-lime-green-64...  \n",
       "15  https://www.flipkart.com/poco-m2-pitch-black-6...  \n",
       "16  https://www.flipkart.com/poco-c3-lime-green-32...  \n",
       "17  https://www.flipkart.com/poco-c3-matte-black-3...  \n",
       "18  https://www.flipkart.com/redmi-9i-nature-green...  \n",
       "19  https://www.flipkart.com/realme-7i-fusion-gree...  \n",
       "20  https://www.flipkart.com/redmi-9-prime-mint-gr...  \n",
       "21  https://www.flipkart.com/realme-7i-fusion-blue...  \n",
       "22  https://www.flipkart.com/poco-c3-arctic-blue-6...  "
      ]
     },
     "execution_count": 689,
     "metadata": {},
     "output_type": "execute_result"
    }
   ],
   "source": [
    "table=pd.DataFrame({})\n",
    "table['Brand Name']=brand[:]\n",
    "table['Mobile Name']=name[:]\n",
    "table['Color']=color[:]\n",
    "table['RAM']=ram[:]\n",
    "table['Storage(ROM)']=stor[:]\n",
    "table['Primary Camera']=pcam[:]\n",
    "table['Secondary Camera']=scam[:]\n",
    "table['Display Size']=dis[:]\n",
    "table['Display Resolution']=res[:]\n",
    "table['Processor']=pro[:]\n",
    "table['Processor Cores']=proc[:]\n",
    "table['Battery Capacity']=batt[:]\n",
    "table['Price']=price[:]\n",
    "table['Product URL']=url[:]\n",
    "table"
   ]
  },
  {
   "cell_type": "code",
   "execution_count": 482,
   "metadata": {},
   "outputs": [],
   "source": [
    "table.to_csv('Web Scraping Assignment 3-Q4.csv')"
   ]
  },
  {
   "cell_type": "markdown",
   "metadata": {},
   "source": [
    "# 5. Write a program to scrap geospatial coordinates (latitude, longitude) of a city searched on google maps."
   ]
  },
  {
   "cell_type": "code",
   "execution_count": 483,
   "metadata": {},
   "outputs": [],
   "source": [
    "driver.get('https://www.google.com/maps/')"
   ]
  },
  {
   "cell_type": "markdown",
   "metadata": {},
   "source": [
    "## Searching for 'Pune' location and clicking search"
   ]
  },
  {
   "cell_type": "code",
   "execution_count": 484,
   "metadata": {},
   "outputs": [],
   "source": [
    "search = driver.find_element_by_xpath(\"//div[@class='sbib_b']/div/input\")\n",
    "search.send_keys(\"Pune\")"
   ]
  },
  {
   "cell_type": "code",
   "execution_count": 485,
   "metadata": {},
   "outputs": [],
   "source": [
    "search_btn = driver.find_element_by_xpath(\"//div[@class='searchbox-searchbutton-container']/button\")\n",
    "search_btn.click()"
   ]
  },
  {
   "cell_type": "markdown",
   "metadata": {},
   "source": [
    "## Extracting all the required data"
   ]
  },
  {
   "cell_type": "code",
   "execution_count": 486,
   "metadata": {},
   "outputs": [],
   "source": [
    "url = driver.current_url"
   ]
  },
  {
   "cell_type": "code",
   "execution_count": 487,
   "metadata": {},
   "outputs": [
    {
     "name": "stdout",
     "output_type": "stream",
     "text": [
      "https://www.google.com/maps/place/Pune,+Maharashtra/@18.6270926,73.7830746,15z/data=!4m5!3m4!1s0x3bc2bf2e67461101:0x828d43bf9d9ee343!8m2!3d18.5204303!4d73.8567437\n"
     ]
    }
   ],
   "source": [
    "print(url)"
   ]
  },
  {
   "cell_type": "code",
   "execution_count": 488,
   "metadata": {},
   "outputs": [],
   "source": [
    "a=url.split('/')[6]\n",
    "b=a.split('@')\n",
    "c=b[1]\n",
    "d=c.split(',')"
   ]
  },
  {
   "cell_type": "code",
   "execution_count": 491,
   "metadata": {},
   "outputs": [
    {
     "name": "stdout",
     "output_type": "stream",
     "text": [
      "Latitude = 18.6270926 \n",
      "Longitude = 73.7830746\n"
     ]
    }
   ],
   "source": [
    "print(\"Latitude =\",d[0],\"\\nLongitude =\",d[1])"
   ]
  },
  {
   "cell_type": "markdown",
   "metadata": {},
   "source": [
    "# 6. Write a program to scrap details of all the funding deals for second quarter (i.e. July 20 – September 20) from trak.in."
   ]
  },
  {
   "cell_type": "code",
   "execution_count": 492,
   "metadata": {},
   "outputs": [],
   "source": [
    "driver.get('https://trak.in/')"
   ]
  },
  {
   "cell_type": "markdown",
   "metadata": {},
   "source": [
    "## Clicking on 'Funding Deals'"
   ]
  },
  {
   "cell_type": "code",
   "execution_count": 493,
   "metadata": {},
   "outputs": [],
   "source": [
    "btn = driver.find_element_by_id('menu-item-51510')\n",
    "btn.click()"
   ]
  },
  {
   "cell_type": "markdown",
   "metadata": {},
   "source": [
    "## Looping 3 times and using string concatination to extract all the requires data from all 3 months"
   ]
  },
  {
   "cell_type": "code",
   "execution_count": 494,
   "metadata": {},
   "outputs": [],
   "source": [
    "juldates=[] \n",
    "augdates=[] \n",
    "septdates=[]"
   ]
  },
  {
   "cell_type": "code",
   "execution_count": 496,
   "metadata": {},
   "outputs": [],
   "source": [
    "a=1\n",
    "n=48\n",
    "b=1 \n",
    "c=1\n",
    "d=2\n",
    "for j in range (0,10):\n",
    "    date=\"//table[@id='tablepress-\"+str(n)+\"']/tbody/tr[\"+str(a)+\"]/td[\"+str(d)+\"]\"\n",
    "    date_1=driver.find_element_by_xpath(date)\n",
    "    juldates.append(date_1.text)\n",
    "    a=a+1\n",
    "    \n",
    "    if a==11:\n",
    "        n=n+1\n",
    "        for k in range (0,10):\n",
    "            date=\"//table[@id='tablepress-\"+str(n)+\"']/tbody/tr[\"+str(b)+\"]/td[\"+str(d)+\"]\"\n",
    "            date_2=driver.find_element_by_xpath(date)\n",
    "            augdates.append(date_2.text)\n",
    "            b=b+1\n",
    "            \n",
    "            if b==11:\n",
    "                n=n+1\n",
    "                for m in range (0,10):\n",
    "                    date=\"//table[@id='tablepress-\"+str(n)+\"']/tbody/tr[\"+str(c)+\"]/td[\"+str(d)+\"]\"\n",
    "                    date_3=driver.find_element_by_xpath(date)\n",
    "                    septdates.append(date_3.text)\n",
    "                    c=c+1"
   ]
  },
  {
   "cell_type": "code",
   "execution_count": 499,
   "metadata": {},
   "outputs": [
    {
     "name": "stdout",
     "output_type": "stream",
     "text": [
      "['15/07/2020', '16/07/2020', '16/07/2020', '14/07/2020', '13/07/2020', '09/07/2020', '10/07/2020', '15/07/2020', '14/07/2020', '13/07/2020']\n"
     ]
    }
   ],
   "source": [
    "print(juldates)"
   ]
  },
  {
   "cell_type": "code",
   "execution_count": 500,
   "metadata": {},
   "outputs": [],
   "source": [
    "julnames=[]\n",
    "augnames=[]\n",
    "septnames=[]"
   ]
  },
  {
   "cell_type": "code",
   "execution_count": 501,
   "metadata": {},
   "outputs": [],
   "source": [
    "a=1\n",
    "n=48\n",
    "b=1\n",
    "c=1\n",
    "d=3\n",
    "for j in range (0,10):\n",
    "    date=\"//table[@id='tablepress-\"+str(n)+\"']/tbody/tr[\"+str(a)+\"]/td[\"+str(d)+\"]\"\n",
    "    date_1=driver.find_element_by_xpath(date)\n",
    "    julnames.append(date_1.text)\n",
    "    a=a+1\n",
    "    \n",
    "    if a==11:\n",
    "        n=n+1\n",
    "        for k in range (0,10):\n",
    "            date=\"//table[@id='tablepress-\"+str(n)+\"']/tbody/tr[\"+str(b)+\"]/td[\"+str(d)+\"]\"\n",
    "            date_2=driver.find_element_by_xpath(date)\n",
    "            augnames.append(date_2.text)\n",
    "            b=b+1\n",
    "            \n",
    "            if b==11:\n",
    "                n=n+1\n",
    "                for m in range (0,10):\n",
    "                    date=\"//table[@id='tablepress-\"+str(n)+\"']/tbody/tr[\"+str(c)+\"]/td[\"+str(d)+\"]\"\n",
    "                    date_3=driver.find_element_by_xpath(date)\n",
    "                    septnames.append(date_3.text)\n",
    "                    c=c+1"
   ]
  },
  {
   "cell_type": "code",
   "execution_count": 502,
   "metadata": {},
   "outputs": [
    {
     "name": "stdout",
     "output_type": "stream",
     "text": [
      "['Flipkart', 'Vedantu', 'Crio', 'goDutch', 'Mystifly', 'JetSynthesys', 'gigIndia', 'PumPumPum', 'FLYX', 'Open Appliances Pvt. Ltd.']\n",
      "['Practo', 'Medlife', 'HungerBox', 'Dunzo', 'Terra.do', 'Classplus', 'Niyo', 'ZestMoney', 'FreshToHome', 'Eduvanz']\n",
      "['Byju’s', 'mCaffeine', 'Qshala', 'Winzo', 'Hippo Video', 'Melorra', '1mg', 'mfine', 'Apna', 'Railofy']\n"
     ]
    }
   ],
   "source": [
    "print(julnames)\n",
    "print(augnames)\n",
    "print(septnames)"
   ]
  },
  {
   "cell_type": "code",
   "execution_count": 503,
   "metadata": {},
   "outputs": [],
   "source": [
    "julind=[]\n",
    "augind=[]\n",
    "septind=[]"
   ]
  },
  {
   "cell_type": "code",
   "execution_count": 504,
   "metadata": {},
   "outputs": [],
   "source": [
    "a=1\n",
    "n=48\n",
    "b=1\n",
    "c=1\n",
    "d=4\n",
    "for j in range (0,10):\n",
    "    date=\"//table[@id='tablepress-\"+str(n)+\"']/tbody/tr[\"+str(a)+\"]/td[\"+str(d)+\"]\"\n",
    "    date_1=driver.find_element_by_xpath(date)\n",
    "    julind.append(date_1.text)\n",
    "    a=a+1\n",
    "    \n",
    "    if a==11:\n",
    "        n=n+1\n",
    "        for k in range (0,10):\n",
    "            date=\"//table[@id='tablepress-\"+str(n)+\"']/tbody/tr[\"+str(b)+\"]/td[\"+str(d)+\"]\"\n",
    "            date_2=driver.find_element_by_xpath(date)\n",
    "            augind.append(date_2.text)\n",
    "            b=b+1\n",
    "            \n",
    "            if b==11:\n",
    "                n=n+1\n",
    "                for m in range (0,10):\n",
    "                    date=\"//table[@id='tablepress-\"+str(n)+\"']/tbody/tr[\"+str(c)+\"]/td[\"+str(d)+\"]\"\n",
    "                    date_3=driver.find_element_by_xpath(date)\n",
    "                    septind.append(date_3.text)\n",
    "                    c=c+1"
   ]
  },
  {
   "cell_type": "code",
   "execution_count": 505,
   "metadata": {},
   "outputs": [
    {
     "name": "stdout",
     "output_type": "stream",
     "text": [
      "['E-commerce', 'EduTech', 'EduTech', 'FinTech', 'Airfare Marketplace', 'Gaming and Entertainment', 'Marketplace', 'Automotive Rental', 'OTT Player', 'Information Technology']\n",
      "['HealthTech', 'E-commerce', 'FoodTech', 'Hyper-local Logistics', 'EduTech', 'EduTech', 'FinTech', 'FinTech', 'E-commerce', 'FinTech']\n",
      "['EduTech', 'Personal Care', 'EduTech', 'Online Gaming', 'Video Customer Experience(CX) Platform', 'E-commerce', 'E-commerce', 'HealthTech', 'Human Resources', 'Transportation']\n"
     ]
    }
   ],
   "source": [
    "print(julind)\n",
    "print(augind)\n",
    "print(septind)"
   ]
  },
  {
   "cell_type": "code",
   "execution_count": 507,
   "metadata": {},
   "outputs": [],
   "source": [
    "julvert=[]\n",
    "augvert=[]\n",
    "septvert=[]"
   ]
  },
  {
   "cell_type": "code",
   "execution_count": 508,
   "metadata": {},
   "outputs": [],
   "source": [
    "a=1\n",
    "n=48\n",
    "b=1\n",
    "c=1\n",
    "d=5\n",
    "for j in range (0,10):\n",
    "    date=\"//table[@id='tablepress-\"+str(n)+\"']/tbody/tr[\"+str(a)+\"]/td[\"+str(d)+\"]\"\n",
    "    date_1=driver.find_element_by_xpath(date)\n",
    "    julvert.append(date_1.text)\n",
    "    a=a+1\n",
    "    \n",
    "    if a==11:\n",
    "        n=n+1\n",
    "        for k in range (0,10):\n",
    "            date=\"//table[@id='tablepress-\"+str(n)+\"']/tbody/tr[\"+str(b)+\"]/td[\"+str(d)+\"]\"\n",
    "            date_2=driver.find_element_by_xpath(date)\n",
    "            augvert.append(date_2.text)\n",
    "            b=b+1\n",
    "            \n",
    "            if b==11:\n",
    "                n=n+1\n",
    "                for m in range (0,10):\n",
    "                    date=\"//table[@id='tablepress-\"+str(n)+\"']/tbody/tr[\"+str(c)+\"]/td[\"+str(d)+\"]\"\n",
    "                    date_3=driver.find_element_by_xpath(date)\n",
    "                    septvert.append(date_3.text)\n",
    "                    c=c+1"
   ]
  },
  {
   "cell_type": "code",
   "execution_count": 509,
   "metadata": {},
   "outputs": [
    {
     "name": "stdout",
     "output_type": "stream",
     "text": [
      "['E-commerce', 'Online Tutoring', 'Learning Platform for Developers', 'Group Payments', 'Ticketing, Airline Retailing, and Post-Ticketing Services', 'Gaming and Entertainment', 'Crowd Sourcing, Freelance', 'Used Car-leasing platform', 'Streaming Social Network', 'Internet-of-Things Security Solutions']\n",
      "['Health care and Wellness', 'Online Pharmacy', 'Online Food Delivery Service', 'Online Delivery Services', 'Online Climate School, E-learning', 'E-learning, Online Tutoring', 'Financial Services', 'Financial Services', 'Food Delivery', 'Financial Services']\n",
      "['Online Tutoring', 'Skincare & Haircare', 'Online Curiosity Platform for Kids', 'Online Gaming', 'Video Customer Experience(CX) Platform', 'Online Jewelry Store', 'Online Pharmacy', 'On-Demand Healthcare Services', 'Recruitment Platform', 'WL & RAC protection platform']\n"
     ]
    }
   ],
   "source": [
    "print(julvert)\n",
    "print(augvert)\n",
    "print(septvert)"
   ]
  },
  {
   "cell_type": "code",
   "execution_count": 510,
   "metadata": {},
   "outputs": [],
   "source": [
    "julloc=[]\n",
    "augloc=[]\n",
    "septloc=[]"
   ]
  },
  {
   "cell_type": "code",
   "execution_count": 511,
   "metadata": {},
   "outputs": [],
   "source": [
    "a=1\n",
    "n=48\n",
    "b=1\n",
    "c=1\n",
    "d=6\n",
    "for j in range (0,10):\n",
    "    date=\"//table[@id='tablepress-\"+str(n)+\"']/tbody/tr[\"+str(a)+\"]/td[\"+str(d)+\"]\"\n",
    "    date_1=driver.find_element_by_xpath(date)\n",
    "    julloc.append(date_1.text)\n",
    "    a=a+1\n",
    "    \n",
    "    if a==11:\n",
    "        n=n+1\n",
    "        for k in range (0,10):\n",
    "            date=\"//table[@id='tablepress-\"+str(n)+\"']/tbody/tr[\"+str(b)+\"]/td[\"+str(d)+\"]\"\n",
    "            date_2=driver.find_element_by_xpath(date)\n",
    "            augloc.append(date_2.text)\n",
    "            b=b+1\n",
    "            \n",
    "            if b==11:\n",
    "                n=n+1\n",
    "                for m in range (0,10):\n",
    "                    date=\"//table[@id='tablepress-\"+str(n)+\"']/tbody/tr[\"+str(c)+\"]/td[\"+str(d)+\"]\"\n",
    "                    date_3=driver.find_element_by_xpath(date)\n",
    "                    septloc.append(date_3.text)\n",
    "                    c=c+1"
   ]
  },
  {
   "cell_type": "code",
   "execution_count": 512,
   "metadata": {},
   "outputs": [
    {
     "name": "stdout",
     "output_type": "stream",
     "text": [
      "['Bangalore', 'Bangalore', 'Bangalore', 'Mumbai', 'Singapore and Bangalore', 'Pune', 'Pune', 'Gurgaon', 'New York and Delhi', 'Bangalore']\n",
      "['Bangalore', 'Bangalore', 'Bangalore', 'Bangalore', 'Stanford, California,', 'Noida', 'Bangalore', 'Bangalore', 'Bangalore', 'Mumbai']\n",
      "['Bangalore', 'Mumbai', 'Bangalore', 'New Delhi', 'Newark, Delaware, United States of Amercia', 'Bangalore', 'Gurgaon', 'Bangalore', 'Bangalore', 'Mumbai']\n"
     ]
    }
   ],
   "source": [
    "print(julloc)\n",
    "print(augloc)\n",
    "print(septloc)"
   ]
  },
  {
   "cell_type": "code",
   "execution_count": 513,
   "metadata": {},
   "outputs": [],
   "source": [
    "julinvest=[]\n",
    "auginvest=[]\n",
    "septinvest=[]"
   ]
  },
  {
   "cell_type": "code",
   "execution_count": 514,
   "metadata": {},
   "outputs": [],
   "source": [
    "a=1\n",
    "n=48\n",
    "b=1\n",
    "c=1\n",
    "d=7\n",
    "for j in range (0,10):\n",
    "    date=\"//table[@id='tablepress-\"+str(n)+\"']/tbody/tr[\"+str(a)+\"]/td[\"+str(d)+\"]\"\n",
    "    date_1=driver.find_element_by_xpath(date)\n",
    "    julinvest.append(date_1.text)\n",
    "    a=a+1\n",
    "    \n",
    "    if a==11:\n",
    "        n=n+1\n",
    "        for k in range (0,10):\n",
    "            date=\"//table[@id='tablepress-\"+str(n)+\"']/tbody/tr[\"+str(b)+\"]/td[\"+str(d)+\"]\"\n",
    "            date_2=driver.find_element_by_xpath(date)\n",
    "            auginvest.append(date_2.text)\n",
    "            b=b+1\n",
    "            \n",
    "            if b==11:\n",
    "                n=n+1\n",
    "                for m in range (0,10):\n",
    "                    date=\"//table[@id='tablepress-\"+str(n)+\"']/tbody/tr[\"+str(c)+\"]/td[\"+str(d)+\"]\"\n",
    "                    date_3=driver.find_element_by_xpath(date)\n",
    "                    septinvest.append(date_3.text)\n",
    "                    c=c+1"
   ]
  },
  {
   "cell_type": "code",
   "execution_count": 515,
   "metadata": {},
   "outputs": [
    {
     "name": "stdout",
     "output_type": "stream",
     "text": [
      "['Walmart Inc', 'Coatue Management', '021 Capital', 'Matrix India,Y Combinator, Global Founders Capital, Soma Capital, and VentureSouq.', 'Recruit Co. Ltd.', 'Adar Poonawalla and Kris Gopalakrishnan.', 'Incubate Fund India and Beyond Next Ventures', 'Early Adapters Syndicate', 'Raj Mishra, founder of AIT Global Inc', 'Unicorn India Ventures']\n",
      "['A1A Company', 'Prasid Uno Family Trust and SC Credit Fund', 'One97, Sabre Partners Trust, Pratithi Investment Trust, and Srihari Kumar', 'Existing Backers', 'Stanford Angels and Entrepreneurs (India), BEENEXT Emerging Asia, Rainmatter Capital', 'Falcon Edge', 'Niyo Solutions Inc.', 'Primrose Hills Ventures', 'Ascent Capital', 'Sequoia India, Unitus']\n",
      "['Silver Lake, Tiger Global, General Atlantic and Owl Ventures', 'Amicus Capital Private Equity I LLP, Amicus Capital Partners India Fund I and RP-SG Venture Fund 1', 'Rainmatter Capital', 'Kalaari Capital Partners, IndigoEdge Management Consultancy', 'Alpha Wave Incubation, Exfinity Venture Partners and existing backers.', 'Shadow Holdings, Lightbox.', 'Gaja Capital, Tata Capital, Partners Group', 'Caretech Pte Inc', 'Lightspeed India and Sequoia Capital India', 'Chiratae Ventures']\n"
     ]
    }
   ],
   "source": [
    "print(julinvest)\n",
    "print(auginvest)\n",
    "print(septinvest)"
   ]
  },
  {
   "cell_type": "code",
   "execution_count": 516,
   "metadata": {},
   "outputs": [],
   "source": [
    "jultype=[]\n",
    "augtype=[]\n",
    "septtype=[]"
   ]
  },
  {
   "cell_type": "code",
   "execution_count": 517,
   "metadata": {},
   "outputs": [],
   "source": [
    "a=1\n",
    "n=48\n",
    "b=1\n",
    "c=1\n",
    "d=8\n",
    "for j in range (0,10):\n",
    "    date=\"//table[@id='tablepress-\"+str(n)+\"']/tbody/tr[\"+str(a)+\"]/td[\"+str(d)+\"]\"\n",
    "    date_1=driver.find_element_by_xpath(date)\n",
    "    jultype.append(date_1.text)\n",
    "    a=a+1\n",
    "    \n",
    "    if a==11:\n",
    "        n=n+1\n",
    "        for k in range (0,10):\n",
    "            date=\"//table[@id='tablepress-\"+str(n)+\"']/tbody/tr[\"+str(b)+\"]/td[\"+str(d)+\"]\"\n",
    "            date_2=driver.find_element_by_xpath(date)\n",
    "            augtype.append(date_2.text)\n",
    "            b=b+1\n",
    "            \n",
    "            if b==11:\n",
    "                n=n+1\n",
    "                for m in range (0,10):\n",
    "                    date=\"//table[@id='tablepress-\"+str(n)+\"']/tbody/tr[\"+str(c)+\"]/td[\"+str(d)+\"]\"\n",
    "                    date_3=driver.find_element_by_xpath(date)\n",
    "                    septtype.append(date_3.text)\n",
    "                    c=c+1"
   ]
  },
  {
   "cell_type": "code",
   "execution_count": 518,
   "metadata": {},
   "outputs": [
    {
     "name": "stdout",
     "output_type": "stream",
     "text": [
      "['M&A', 'Series D', 'pre-Series A', 'Seed', 'pre-Series B', 'Venture-Series Unknown', 'pre-Series A', 'Seed', 'pre-Seed', 'Venture-Series Unknown']\n",
      "['Series F', '', 'Series D1', 'In Progress', 'Seed', 'In Progress', '', '', 'Venture', 'Series A']\n",
      "['Private Equity', 'Series B', 'Angel', 'Series B', 'Series A', 'Debt Financing', 'In Progress', 'Series B', 'Series A', 'Seed']\n"
     ]
    }
   ],
   "source": [
    "print(jultype)\n",
    "print(augtype)\n",
    "print(septtype)"
   ]
  },
  {
   "cell_type": "code",
   "execution_count": 519,
   "metadata": {},
   "outputs": [],
   "source": [
    "julamount=[]\n",
    "augamount=[]\n",
    "septamount=[]"
   ]
  },
  {
   "cell_type": "code",
   "execution_count": 520,
   "metadata": {},
   "outputs": [],
   "source": [
    "a=1\n",
    "n=48\n",
    "b=1\n",
    "c=1\n",
    "d=9\n",
    "for j in range (0,10):\n",
    "    date=\"//table[@id='tablepress-\"+str(n)+\"']/tbody/tr[\"+str(a)+\"]/td[\"+str(d)+\"]\"\n",
    "    date_1=driver.find_element_by_xpath(date)\n",
    "    julamount.append(date_1.text)\n",
    "    a=a+1\n",
    "    \n",
    "    if a==11:\n",
    "        n=n+1\n",
    "        for k in range (0,10):\n",
    "            date=\"//table[@id='tablepress-\"+str(n)+\"']/tbody/tr[\"+str(b)+\"]/td[\"+str(d)+\"]\"\n",
    "            date_2=driver.find_element_by_xpath(date)\n",
    "            augamount.append(date_2.text)\n",
    "            b=b+1\n",
    "            \n",
    "            if b==11:\n",
    "                n=n+1\n",
    "                for m in range (0,10):\n",
    "                    date=\"//table[@id='tablepress-\"+str(n)+\"']/tbody/tr[\"+str(c)+\"]/td[\"+str(d)+\"]\"\n",
    "                    date_3=driver.find_element_by_xpath(date)\n",
    "                    septamount.append(date_3.text)\n",
    "                    c=c+1"
   ]
  },
  {
   "cell_type": "code",
   "execution_count": 521,
   "metadata": {},
   "outputs": [
    {
     "name": "stdout",
     "output_type": "stream",
     "text": [
      "['1,200,000,000', '100,000,000', '934,160', '1,700,000', '3,300,000', '400,000', '974,200', '292,800', '200,000', '500,000']\n",
      "['32,000,000', '23,000,000', '1,560,000', '30,000,000', '1,400,000', 'upto 15,000,000', '6,000,000', '10,670,000', '16,200,000', '5,000,000']\n",
      "['500,000,000', '3,000,000', '370,000', '15,500,000', '4,500,000', 'upto 8,900,000', '100,000,000', '5,400,000', '8,000,000', '950,000']\n"
     ]
    }
   ],
   "source": [
    "print(julamount)\n",
    "print(augamount)\n",
    "print(septamount)"
   ]
  },
  {
   "cell_type": "markdown",
   "metadata": {},
   "source": [
    "## Creating Dataframe for 'July' month"
   ]
  },
  {
   "cell_type": "code",
   "execution_count": 538,
   "metadata": {},
   "outputs": [],
   "source": [
    "table=pd.DataFrame({})\n",
    "table['Date']=juldates[:]\n",
    "table['Startup']=julnames[:]\n",
    "table['Industry']=julind[:]\n",
    "table['Sub-Vertical']=julvert[:]\n",
    "table['Location']=julloc[:]\n",
    "table[\"Investor's Name\"]=julinvest[:]\n",
    "table['Investment Type']=jultype[:]\n",
    "table['Amount(In USD)']=julamount[:]"
   ]
  },
  {
   "cell_type": "code",
   "execution_count": 539,
   "metadata": {},
   "outputs": [
    {
     "name": "stdout",
     "output_type": "stream",
     "text": [
      "\u001b[1m                                                          JULY, 2020\u001b[0m\n"
     ]
    },
    {
     "data": {
      "text/html": [
       "<div>\n",
       "<style scoped>\n",
       "    .dataframe tbody tr th:only-of-type {\n",
       "        vertical-align: middle;\n",
       "    }\n",
       "\n",
       "    .dataframe tbody tr th {\n",
       "        vertical-align: top;\n",
       "    }\n",
       "\n",
       "    .dataframe thead th {\n",
       "        text-align: right;\n",
       "    }\n",
       "</style>\n",
       "<table border=\"1\" class=\"dataframe\">\n",
       "  <thead>\n",
       "    <tr style=\"text-align: right;\">\n",
       "      <th></th>\n",
       "      <th>Date</th>\n",
       "      <th>Startup</th>\n",
       "      <th>Industry</th>\n",
       "      <th>Sub-Vertical</th>\n",
       "      <th>Location</th>\n",
       "      <th>Investor's Name</th>\n",
       "      <th>Investment Type</th>\n",
       "      <th>Amount(In USD)</th>\n",
       "    </tr>\n",
       "  </thead>\n",
       "  <tbody>\n",
       "    <tr>\n",
       "      <th>0</th>\n",
       "      <td>15/07/2020</td>\n",
       "      <td>Flipkart</td>\n",
       "      <td>E-commerce</td>\n",
       "      <td>E-commerce</td>\n",
       "      <td>Bangalore</td>\n",
       "      <td>Walmart Inc</td>\n",
       "      <td>M&amp;A</td>\n",
       "      <td>1,200,000,000</td>\n",
       "    </tr>\n",
       "    <tr>\n",
       "      <th>1</th>\n",
       "      <td>16/07/2020</td>\n",
       "      <td>Vedantu</td>\n",
       "      <td>EduTech</td>\n",
       "      <td>Online Tutoring</td>\n",
       "      <td>Bangalore</td>\n",
       "      <td>Coatue Management</td>\n",
       "      <td>Series D</td>\n",
       "      <td>100,000,000</td>\n",
       "    </tr>\n",
       "    <tr>\n",
       "      <th>2</th>\n",
       "      <td>16/07/2020</td>\n",
       "      <td>Crio</td>\n",
       "      <td>EduTech</td>\n",
       "      <td>Learning Platform for Developers</td>\n",
       "      <td>Bangalore</td>\n",
       "      <td>021 Capital</td>\n",
       "      <td>pre-Series A</td>\n",
       "      <td>934,160</td>\n",
       "    </tr>\n",
       "    <tr>\n",
       "      <th>3</th>\n",
       "      <td>14/07/2020</td>\n",
       "      <td>goDutch</td>\n",
       "      <td>FinTech</td>\n",
       "      <td>Group Payments</td>\n",
       "      <td>Mumbai</td>\n",
       "      <td>Matrix India,Y Combinator, Global Founders Cap...</td>\n",
       "      <td>Seed</td>\n",
       "      <td>1,700,000</td>\n",
       "    </tr>\n",
       "    <tr>\n",
       "      <th>4</th>\n",
       "      <td>13/07/2020</td>\n",
       "      <td>Mystifly</td>\n",
       "      <td>Airfare Marketplace</td>\n",
       "      <td>Ticketing, Airline Retailing, and Post-Ticketi...</td>\n",
       "      <td>Singapore and Bangalore</td>\n",
       "      <td>Recruit Co. Ltd.</td>\n",
       "      <td>pre-Series B</td>\n",
       "      <td>3,300,000</td>\n",
       "    </tr>\n",
       "    <tr>\n",
       "      <th>5</th>\n",
       "      <td>09/07/2020</td>\n",
       "      <td>JetSynthesys</td>\n",
       "      <td>Gaming and Entertainment</td>\n",
       "      <td>Gaming and Entertainment</td>\n",
       "      <td>Pune</td>\n",
       "      <td>Adar Poonawalla and Kris Gopalakrishnan.</td>\n",
       "      <td>Venture-Series Unknown</td>\n",
       "      <td>400,000</td>\n",
       "    </tr>\n",
       "    <tr>\n",
       "      <th>6</th>\n",
       "      <td>10/07/2020</td>\n",
       "      <td>gigIndia</td>\n",
       "      <td>Marketplace</td>\n",
       "      <td>Crowd Sourcing, Freelance</td>\n",
       "      <td>Pune</td>\n",
       "      <td>Incubate Fund India and Beyond Next Ventures</td>\n",
       "      <td>pre-Series A</td>\n",
       "      <td>974,200</td>\n",
       "    </tr>\n",
       "    <tr>\n",
       "      <th>7</th>\n",
       "      <td>15/07/2020</td>\n",
       "      <td>PumPumPum</td>\n",
       "      <td>Automotive Rental</td>\n",
       "      <td>Used Car-leasing platform</td>\n",
       "      <td>Gurgaon</td>\n",
       "      <td>Early Adapters Syndicate</td>\n",
       "      <td>Seed</td>\n",
       "      <td>292,800</td>\n",
       "    </tr>\n",
       "    <tr>\n",
       "      <th>8</th>\n",
       "      <td>14/07/2020</td>\n",
       "      <td>FLYX</td>\n",
       "      <td>OTT Player</td>\n",
       "      <td>Streaming Social Network</td>\n",
       "      <td>New York and Delhi</td>\n",
       "      <td>Raj Mishra, founder of AIT Global Inc</td>\n",
       "      <td>pre-Seed</td>\n",
       "      <td>200,000</td>\n",
       "    </tr>\n",
       "    <tr>\n",
       "      <th>9</th>\n",
       "      <td>13/07/2020</td>\n",
       "      <td>Open Appliances Pvt. Ltd.</td>\n",
       "      <td>Information Technology</td>\n",
       "      <td>Internet-of-Things Security Solutions</td>\n",
       "      <td>Bangalore</td>\n",
       "      <td>Unicorn India Ventures</td>\n",
       "      <td>Venture-Series Unknown</td>\n",
       "      <td>500,000</td>\n",
       "    </tr>\n",
       "  </tbody>\n",
       "</table>\n",
       "</div>"
      ],
      "text/plain": [
       "         Date                    Startup                  Industry  \\\n",
       "0  15/07/2020                   Flipkart                E-commerce   \n",
       "1  16/07/2020                    Vedantu                   EduTech   \n",
       "2  16/07/2020                       Crio                   EduTech   \n",
       "3  14/07/2020                    goDutch                   FinTech   \n",
       "4  13/07/2020                   Mystifly       Airfare Marketplace   \n",
       "5  09/07/2020               JetSynthesys  Gaming and Entertainment   \n",
       "6  10/07/2020                   gigIndia               Marketplace   \n",
       "7  15/07/2020                  PumPumPum         Automotive Rental   \n",
       "8  14/07/2020                       FLYX                OTT Player   \n",
       "9  13/07/2020  Open Appliances Pvt. Ltd.    Information Technology   \n",
       "\n",
       "                                        Sub-Vertical                 Location  \\\n",
       "0                                         E-commerce                Bangalore   \n",
       "1                                    Online Tutoring                Bangalore   \n",
       "2                   Learning Platform for Developers                Bangalore   \n",
       "3                                     Group Payments                   Mumbai   \n",
       "4  Ticketing, Airline Retailing, and Post-Ticketi...  Singapore and Bangalore   \n",
       "5                           Gaming and Entertainment                     Pune   \n",
       "6                          Crowd Sourcing, Freelance                     Pune   \n",
       "7                          Used Car-leasing platform                  Gurgaon   \n",
       "8                           Streaming Social Network       New York and Delhi   \n",
       "9              Internet-of-Things Security Solutions                Bangalore   \n",
       "\n",
       "                                     Investor's Name         Investment Type  \\\n",
       "0                                        Walmart Inc                     M&A   \n",
       "1                                  Coatue Management                Series D   \n",
       "2                                        021 Capital            pre-Series A   \n",
       "3  Matrix India,Y Combinator, Global Founders Cap...                    Seed   \n",
       "4                                   Recruit Co. Ltd.            pre-Series B   \n",
       "5           Adar Poonawalla and Kris Gopalakrishnan.  Venture-Series Unknown   \n",
       "6       Incubate Fund India and Beyond Next Ventures            pre-Series A   \n",
       "7                           Early Adapters Syndicate                    Seed   \n",
       "8              Raj Mishra, founder of AIT Global Inc                pre-Seed   \n",
       "9                             Unicorn India Ventures  Venture-Series Unknown   \n",
       "\n",
       "  Amount(In USD)  \n",
       "0  1,200,000,000  \n",
       "1    100,000,000  \n",
       "2        934,160  \n",
       "3      1,700,000  \n",
       "4      3,300,000  \n",
       "5        400,000  \n",
       "6        974,200  \n",
       "7        292,800  \n",
       "8        200,000  \n",
       "9        500,000  "
      ]
     },
     "execution_count": 539,
     "metadata": {},
     "output_type": "execute_result"
    }
   ],
   "source": [
    "print('\\033[1m' + '                                                          JULY, 2020' + '\\033[0m')                                                   \n",
    "table"
   ]
  },
  {
   "cell_type": "markdown",
   "metadata": {},
   "source": [
    "## Creating Dataframe for 'August' month"
   ]
  },
  {
   "cell_type": "code",
   "execution_count": 540,
   "metadata": {},
   "outputs": [],
   "source": [
    "table=pd.DataFrame({})\n",
    "table['Date']=augdates[:]\n",
    "table['Startup']=augnames[:]\n",
    "table['Industry']=augind[:]\n",
    "table['Sub-Vertical']=augvert[:]\n",
    "table['Location']=augloc[:]\n",
    "table[\"Investor's Name\"]=auginvest[:]\n",
    "table['Investment Type']=augtype[:]\n",
    "table['Amount(In USD)']=augamount[:]"
   ]
  },
  {
   "cell_type": "code",
   "execution_count": 542,
   "metadata": {},
   "outputs": [
    {
     "name": "stdout",
     "output_type": "stream",
     "text": [
      "\u001b[1m                                                        AUGUST, 2020\u001b[0m\n"
     ]
    },
    {
     "data": {
      "text/html": [
       "<div>\n",
       "<style scoped>\n",
       "    .dataframe tbody tr th:only-of-type {\n",
       "        vertical-align: middle;\n",
       "    }\n",
       "\n",
       "    .dataframe tbody tr th {\n",
       "        vertical-align: top;\n",
       "    }\n",
       "\n",
       "    .dataframe thead th {\n",
       "        text-align: right;\n",
       "    }\n",
       "</style>\n",
       "<table border=\"1\" class=\"dataframe\">\n",
       "  <thead>\n",
       "    <tr style=\"text-align: right;\">\n",
       "      <th></th>\n",
       "      <th>Date</th>\n",
       "      <th>Startup</th>\n",
       "      <th>Industry</th>\n",
       "      <th>Sub-Vertical</th>\n",
       "      <th>Location</th>\n",
       "      <th>Investor's Name</th>\n",
       "      <th>Investment Type</th>\n",
       "      <th>Amount(In USD)</th>\n",
       "    </tr>\n",
       "  </thead>\n",
       "  <tbody>\n",
       "    <tr>\n",
       "      <th>0</th>\n",
       "      <td>15/08/2020</td>\n",
       "      <td>Practo</td>\n",
       "      <td>HealthTech</td>\n",
       "      <td>Health care and Wellness</td>\n",
       "      <td>Bangalore</td>\n",
       "      <td>A1A Company</td>\n",
       "      <td>Series F</td>\n",
       "      <td>32,000,000</td>\n",
       "    </tr>\n",
       "    <tr>\n",
       "      <th>1</th>\n",
       "      <td>13/08/2020</td>\n",
       "      <td>Medlife</td>\n",
       "      <td>E-commerce</td>\n",
       "      <td>Online Pharmacy</td>\n",
       "      <td>Bangalore</td>\n",
       "      <td>Prasid Uno Family Trust and SC Credit Fund</td>\n",
       "      <td></td>\n",
       "      <td>23,000,000</td>\n",
       "    </tr>\n",
       "    <tr>\n",
       "      <th>2</th>\n",
       "      <td>13/08/2020</td>\n",
       "      <td>HungerBox</td>\n",
       "      <td>FoodTech</td>\n",
       "      <td>Online Food Delivery Service</td>\n",
       "      <td>Bangalore</td>\n",
       "      <td>One97, Sabre Partners Trust, Pratithi Investme...</td>\n",
       "      <td>Series D1</td>\n",
       "      <td>1,560,000</td>\n",
       "    </tr>\n",
       "    <tr>\n",
       "      <th>3</th>\n",
       "      <td>04/08/2020</td>\n",
       "      <td>Dunzo</td>\n",
       "      <td>Hyper-local Logistics</td>\n",
       "      <td>Online Delivery Services</td>\n",
       "      <td>Bangalore</td>\n",
       "      <td>Existing Backers</td>\n",
       "      <td>In Progress</td>\n",
       "      <td>30,000,000</td>\n",
       "    </tr>\n",
       "    <tr>\n",
       "      <th>4</th>\n",
       "      <td>11/08/2020</td>\n",
       "      <td>Terra.do</td>\n",
       "      <td>EduTech</td>\n",
       "      <td>Online Climate School, E-learning</td>\n",
       "      <td>Stanford, California,</td>\n",
       "      <td>Stanford Angels and Entrepreneurs (India), BEE...</td>\n",
       "      <td>Seed</td>\n",
       "      <td>1,400,000</td>\n",
       "    </tr>\n",
       "    <tr>\n",
       "      <th>5</th>\n",
       "      <td>12/08/2020</td>\n",
       "      <td>Classplus</td>\n",
       "      <td>EduTech</td>\n",
       "      <td>E-learning, Online Tutoring</td>\n",
       "      <td>Noida</td>\n",
       "      <td>Falcon Edge</td>\n",
       "      <td>In Progress</td>\n",
       "      <td>upto 15,000,000</td>\n",
       "    </tr>\n",
       "    <tr>\n",
       "      <th>6</th>\n",
       "      <td>14/08/2020</td>\n",
       "      <td>Niyo</td>\n",
       "      <td>FinTech</td>\n",
       "      <td>Financial Services</td>\n",
       "      <td>Bangalore</td>\n",
       "      <td>Niyo Solutions Inc.</td>\n",
       "      <td></td>\n",
       "      <td>6,000,000</td>\n",
       "    </tr>\n",
       "    <tr>\n",
       "      <th>7</th>\n",
       "      <td>10/08/2020</td>\n",
       "      <td>ZestMoney</td>\n",
       "      <td>FinTech</td>\n",
       "      <td>Financial Services</td>\n",
       "      <td>Bangalore</td>\n",
       "      <td>Primrose Hills Ventures</td>\n",
       "      <td></td>\n",
       "      <td>10,670,000</td>\n",
       "    </tr>\n",
       "    <tr>\n",
       "      <th>8</th>\n",
       "      <td>07/08/2020</td>\n",
       "      <td>FreshToHome</td>\n",
       "      <td>E-commerce</td>\n",
       "      <td>Food Delivery</td>\n",
       "      <td>Bangalore</td>\n",
       "      <td>Ascent Capital</td>\n",
       "      <td>Venture</td>\n",
       "      <td>16,200,000</td>\n",
       "    </tr>\n",
       "    <tr>\n",
       "      <th>9</th>\n",
       "      <td>13/08/2020</td>\n",
       "      <td>Eduvanz</td>\n",
       "      <td>FinTech</td>\n",
       "      <td>Financial Services</td>\n",
       "      <td>Mumbai</td>\n",
       "      <td>Sequoia India, Unitus</td>\n",
       "      <td>Series A</td>\n",
       "      <td>5,000,000</td>\n",
       "    </tr>\n",
       "  </tbody>\n",
       "</table>\n",
       "</div>"
      ],
      "text/plain": [
       "         Date      Startup               Industry  \\\n",
       "0  15/08/2020       Practo             HealthTech   \n",
       "1  13/08/2020      Medlife             E-commerce   \n",
       "2  13/08/2020    HungerBox               FoodTech   \n",
       "3  04/08/2020        Dunzo  Hyper-local Logistics   \n",
       "4  11/08/2020     Terra.do                EduTech   \n",
       "5  12/08/2020    Classplus                EduTech   \n",
       "6  14/08/2020         Niyo                FinTech   \n",
       "7  10/08/2020    ZestMoney                FinTech   \n",
       "8  07/08/2020  FreshToHome             E-commerce   \n",
       "9  13/08/2020      Eduvanz                FinTech   \n",
       "\n",
       "                        Sub-Vertical               Location  \\\n",
       "0           Health care and Wellness              Bangalore   \n",
       "1                    Online Pharmacy              Bangalore   \n",
       "2       Online Food Delivery Service              Bangalore   \n",
       "3           Online Delivery Services              Bangalore   \n",
       "4  Online Climate School, E-learning  Stanford, California,   \n",
       "5        E-learning, Online Tutoring                  Noida   \n",
       "6                 Financial Services              Bangalore   \n",
       "7                 Financial Services              Bangalore   \n",
       "8                      Food Delivery              Bangalore   \n",
       "9                 Financial Services                 Mumbai   \n",
       "\n",
       "                                     Investor's Name Investment Type  \\\n",
       "0                                        A1A Company        Series F   \n",
       "1         Prasid Uno Family Trust and SC Credit Fund                   \n",
       "2  One97, Sabre Partners Trust, Pratithi Investme...       Series D1   \n",
       "3                                   Existing Backers     In Progress   \n",
       "4  Stanford Angels and Entrepreneurs (India), BEE...            Seed   \n",
       "5                                        Falcon Edge     In Progress   \n",
       "6                                Niyo Solutions Inc.                   \n",
       "7                            Primrose Hills Ventures                   \n",
       "8                                     Ascent Capital         Venture   \n",
       "9                              Sequoia India, Unitus        Series A   \n",
       "\n",
       "    Amount(In USD)  \n",
       "0       32,000,000  \n",
       "1       23,000,000  \n",
       "2        1,560,000  \n",
       "3       30,000,000  \n",
       "4        1,400,000  \n",
       "5  upto 15,000,000  \n",
       "6        6,000,000  \n",
       "7       10,670,000  \n",
       "8       16,200,000  \n",
       "9        5,000,000  "
      ]
     },
     "execution_count": 542,
     "metadata": {},
     "output_type": "execute_result"
    }
   ],
   "source": [
    "print('\\033[1m' + '                                                        AUGUST, 2020' + '\\033[0m')                                                   \n",
    "table"
   ]
  },
  {
   "cell_type": "markdown",
   "metadata": {},
   "source": [
    "## Creating Dataframe for 'September' month"
   ]
  },
  {
   "cell_type": "code",
   "execution_count": 543,
   "metadata": {},
   "outputs": [],
   "source": [
    "table=pd.DataFrame({})\n",
    "table['Date']=septdates[:]\n",
    "table['Startup']=septnames[:]\n",
    "table['Industry']=septind[:]\n",
    "table['Sub-Vertical']=septvert[:]\n",
    "table['Location']=septloc[:]\n",
    "table[\"Investor's Name\"]=septinvest[:]\n",
    "table['Investment Type']=septtype[:]\n",
    "table['Amount(In USD)']=septamount[:]"
   ]
  },
  {
   "cell_type": "code",
   "execution_count": 544,
   "metadata": {},
   "outputs": [
    {
     "name": "stdout",
     "output_type": "stream",
     "text": [
      "\u001b[1m                                                        SEPTEMBER, 2020\u001b[0m\n"
     ]
    },
    {
     "data": {
      "text/html": [
       "<div>\n",
       "<style scoped>\n",
       "    .dataframe tbody tr th:only-of-type {\n",
       "        vertical-align: middle;\n",
       "    }\n",
       "\n",
       "    .dataframe tbody tr th {\n",
       "        vertical-align: top;\n",
       "    }\n",
       "\n",
       "    .dataframe thead th {\n",
       "        text-align: right;\n",
       "    }\n",
       "</style>\n",
       "<table border=\"1\" class=\"dataframe\">\n",
       "  <thead>\n",
       "    <tr style=\"text-align: right;\">\n",
       "      <th></th>\n",
       "      <th>Date</th>\n",
       "      <th>Startup</th>\n",
       "      <th>Industry</th>\n",
       "      <th>Sub-Vertical</th>\n",
       "      <th>Location</th>\n",
       "      <th>Investor's Name</th>\n",
       "      <th>Investment Type</th>\n",
       "      <th>Amount(In USD)</th>\n",
       "    </tr>\n",
       "  </thead>\n",
       "  <tbody>\n",
       "    <tr>\n",
       "      <th>0</th>\n",
       "      <td>08/09/2020</td>\n",
       "      <td>Byju’s</td>\n",
       "      <td>EduTech</td>\n",
       "      <td>Online Tutoring</td>\n",
       "      <td>Bangalore</td>\n",
       "      <td>Silver Lake, Tiger Global, General Atlantic an...</td>\n",
       "      <td>Private Equity</td>\n",
       "      <td>500,000,000</td>\n",
       "    </tr>\n",
       "    <tr>\n",
       "      <th>1</th>\n",
       "      <td>12/09/2020</td>\n",
       "      <td>mCaffeine</td>\n",
       "      <td>Personal Care</td>\n",
       "      <td>Skincare &amp; Haircare</td>\n",
       "      <td>Mumbai</td>\n",
       "      <td>Amicus Capital Private Equity I LLP, Amicus Ca...</td>\n",
       "      <td>Series B</td>\n",
       "      <td>3,000,000</td>\n",
       "    </tr>\n",
       "    <tr>\n",
       "      <th>2</th>\n",
       "      <td>09/09/2020</td>\n",
       "      <td>Qshala</td>\n",
       "      <td>EduTech</td>\n",
       "      <td>Online Curiosity Platform for Kids</td>\n",
       "      <td>Bangalore</td>\n",
       "      <td>Rainmatter Capital</td>\n",
       "      <td>Angel</td>\n",
       "      <td>370,000</td>\n",
       "    </tr>\n",
       "    <tr>\n",
       "      <th>3</th>\n",
       "      <td>02/09/2020</td>\n",
       "      <td>Winzo</td>\n",
       "      <td>Online Gaming</td>\n",
       "      <td>Online Gaming</td>\n",
       "      <td>New Delhi</td>\n",
       "      <td>Kalaari Capital Partners, IndigoEdge Managemen...</td>\n",
       "      <td>Series B</td>\n",
       "      <td>15,500,000</td>\n",
       "    </tr>\n",
       "    <tr>\n",
       "      <th>4</th>\n",
       "      <td>09/09/2020</td>\n",
       "      <td>Hippo Video</td>\n",
       "      <td>Video Customer Experience(CX) Platform</td>\n",
       "      <td>Video Customer Experience(CX) Platform</td>\n",
       "      <td>Newark, Delaware, United States of Amercia</td>\n",
       "      <td>Alpha Wave Incubation, Exfinity Venture Partne...</td>\n",
       "      <td>Series A</td>\n",
       "      <td>4,500,000</td>\n",
       "    </tr>\n",
       "    <tr>\n",
       "      <th>5</th>\n",
       "      <td>07/09/2020</td>\n",
       "      <td>Melorra</td>\n",
       "      <td>E-commerce</td>\n",
       "      <td>Online Jewelry Store</td>\n",
       "      <td>Bangalore</td>\n",
       "      <td>Shadow Holdings, Lightbox.</td>\n",
       "      <td>Debt Financing</td>\n",
       "      <td>upto 8,900,000</td>\n",
       "    </tr>\n",
       "    <tr>\n",
       "      <th>6</th>\n",
       "      <td>07/09/2020</td>\n",
       "      <td>1mg</td>\n",
       "      <td>E-commerce</td>\n",
       "      <td>Online Pharmacy</td>\n",
       "      <td>Gurgaon</td>\n",
       "      <td>Gaja Capital, Tata Capital, Partners Group</td>\n",
       "      <td>In Progress</td>\n",
       "      <td>100,000,000</td>\n",
       "    </tr>\n",
       "    <tr>\n",
       "      <th>7</th>\n",
       "      <td>31/08/2020</td>\n",
       "      <td>mfine</td>\n",
       "      <td>HealthTech</td>\n",
       "      <td>On-Demand Healthcare Services</td>\n",
       "      <td>Bangalore</td>\n",
       "      <td>Caretech Pte Inc</td>\n",
       "      <td>Series B</td>\n",
       "      <td>5,400,000</td>\n",
       "    </tr>\n",
       "    <tr>\n",
       "      <th>8</th>\n",
       "      <td>31/08/2020</td>\n",
       "      <td>Apna</td>\n",
       "      <td>Human Resources</td>\n",
       "      <td>Recruitment Platform</td>\n",
       "      <td>Bangalore</td>\n",
       "      <td>Lightspeed India and Sequoia Capital India</td>\n",
       "      <td>Series A</td>\n",
       "      <td>8,000,000</td>\n",
       "    </tr>\n",
       "    <tr>\n",
       "      <th>9</th>\n",
       "      <td>03/09/2020</td>\n",
       "      <td>Railofy</td>\n",
       "      <td>Transportation</td>\n",
       "      <td>WL &amp; RAC protection platform</td>\n",
       "      <td>Mumbai</td>\n",
       "      <td>Chiratae Ventures</td>\n",
       "      <td>Seed</td>\n",
       "      <td>950,000</td>\n",
       "    </tr>\n",
       "  </tbody>\n",
       "</table>\n",
       "</div>"
      ],
      "text/plain": [
       "         Date      Startup                                Industry  \\\n",
       "0  08/09/2020       Byju’s                                 EduTech   \n",
       "1  12/09/2020    mCaffeine                           Personal Care   \n",
       "2  09/09/2020       Qshala                                 EduTech   \n",
       "3  02/09/2020        Winzo                           Online Gaming   \n",
       "4  09/09/2020  Hippo Video  Video Customer Experience(CX) Platform   \n",
       "5  07/09/2020      Melorra                              E-commerce   \n",
       "6  07/09/2020          1mg                              E-commerce   \n",
       "7  31/08/2020        mfine                              HealthTech   \n",
       "8  31/08/2020         Apna                         Human Resources   \n",
       "9  03/09/2020      Railofy                          Transportation   \n",
       "\n",
       "                             Sub-Vertical  \\\n",
       "0                         Online Tutoring   \n",
       "1                     Skincare & Haircare   \n",
       "2      Online Curiosity Platform for Kids   \n",
       "3                           Online Gaming   \n",
       "4  Video Customer Experience(CX) Platform   \n",
       "5                    Online Jewelry Store   \n",
       "6                         Online Pharmacy   \n",
       "7           On-Demand Healthcare Services   \n",
       "8                    Recruitment Platform   \n",
       "9            WL & RAC protection platform   \n",
       "\n",
       "                                     Location  \\\n",
       "0                                   Bangalore   \n",
       "1                                      Mumbai   \n",
       "2                                   Bangalore   \n",
       "3                                   New Delhi   \n",
       "4  Newark, Delaware, United States of Amercia   \n",
       "5                                   Bangalore   \n",
       "6                                     Gurgaon   \n",
       "7                                   Bangalore   \n",
       "8                                   Bangalore   \n",
       "9                                      Mumbai   \n",
       "\n",
       "                                     Investor's Name Investment Type  \\\n",
       "0  Silver Lake, Tiger Global, General Atlantic an...  Private Equity   \n",
       "1  Amicus Capital Private Equity I LLP, Amicus Ca...        Series B   \n",
       "2                                 Rainmatter Capital           Angel   \n",
       "3  Kalaari Capital Partners, IndigoEdge Managemen...        Series B   \n",
       "4  Alpha Wave Incubation, Exfinity Venture Partne...        Series A   \n",
       "5                         Shadow Holdings, Lightbox.  Debt Financing   \n",
       "6         Gaja Capital, Tata Capital, Partners Group     In Progress   \n",
       "7                                   Caretech Pte Inc        Series B   \n",
       "8         Lightspeed India and Sequoia Capital India        Series A   \n",
       "9                                  Chiratae Ventures            Seed   \n",
       "\n",
       "   Amount(In USD)  \n",
       "0     500,000,000  \n",
       "1       3,000,000  \n",
       "2         370,000  \n",
       "3      15,500,000  \n",
       "4       4,500,000  \n",
       "5  upto 8,900,000  \n",
       "6     100,000,000  \n",
       "7       5,400,000  \n",
       "8       8,000,000  \n",
       "9         950,000  "
      ]
     },
     "execution_count": 544,
     "metadata": {},
     "output_type": "execute_result"
    }
   ],
   "source": [
    "print('\\033[1m' + '                                                        SEPTEMBER, 2020' + '\\033[0m')                                                   \n",
    "table"
   ]
  },
  {
   "cell_type": "markdown",
   "metadata": {},
   "source": [
    "# 7. Write a program to scrap all the available details of top 10 gaming laptops from digit.in."
   ]
  },
  {
   "cell_type": "code",
   "execution_count": 547,
   "metadata": {},
   "outputs": [],
   "source": [
    "driver.get('https://www.digit.in/')"
   ]
  },
  {
   "cell_type": "markdown",
   "metadata": {},
   "source": [
    "## Clicking on 'Top 10 Gaming Laptops'"
   ]
  },
  {
   "cell_type": "code",
   "execution_count": 548,
   "metadata": {},
   "outputs": [],
   "source": [
    "search = driver.find_element_by_xpath(\"//div[@class='listing_container']/ul/li[9]\")\n",
    "search.click()"
   ]
  },
  {
   "cell_type": "markdown",
   "metadata": {},
   "source": [
    "## Extracting all the required data"
   ]
  },
  {
   "cell_type": "code",
   "execution_count": 549,
   "metadata": {},
   "outputs": [],
   "source": [
    "lap_1=driver.find_elements_by_xpath(\"//div[@data-title='MSI GT76 TITAN DT 9SG']/following-sibling::div/div/table/tbody/tr/td[3]\")"
   ]
  },
  {
   "cell_type": "code",
   "execution_count": 553,
   "metadata": {},
   "outputs": [],
   "source": [
    "list=[]\n",
    "for i in lap_1:\n",
    "    list.append(i.text)"
   ]
  },
  {
   "cell_type": "code",
   "execution_count": 555,
   "metadata": {},
   "outputs": [
    {
     "data": {
      "text/plain": [
       "70"
      ]
     },
     "execution_count": 555,
     "metadata": {},
     "output_type": "execute_result"
    }
   ],
   "source": [
    "len(list)"
   ]
  },
  {
   "cell_type": "code",
   "execution_count": 556,
   "metadata": {},
   "outputs": [],
   "source": [
    "os=[]\n",
    "disp=[]\n",
    "pro=[]\n",
    "mem=[]\n",
    "weight=[]\n",
    "dimen=[]\n",
    "graph=[]"
   ]
  },
  {
   "cell_type": "code",
   "execution_count": 557,
   "metadata": {},
   "outputs": [],
   "source": [
    "a=0\n",
    "for i in list:\n",
    "    if a%7==0:\n",
    "        os.append(i)\n",
    "    if a%7==1:\n",
    "        disp.append(i)\n",
    "    if a%7==2:\n",
    "        pro.append(i)\n",
    "    if a%7==3:\n",
    "        mem.append(i)\n",
    "    if a%7==4:\n",
    "        weight.append(i)\n",
    "    if a%7==5:\n",
    "        dimen.append(i)\n",
    "    if a%7==6:\n",
    "        graph.append(i)\n",
    "    a=a+1"
   ]
  },
  {
   "cell_type": "code",
   "execution_count": 559,
   "metadata": {},
   "outputs": [],
   "source": [
    "price_1=driver.find_elements_by_xpath(\"//table[@id='summtable']/tbody/tr/td[3]\")"
   ]
  },
  {
   "cell_type": "code",
   "execution_count": 563,
   "metadata": {},
   "outputs": [],
   "source": [
    "price=[]\n",
    "for i in price_1:\n",
    "    price.append(i.text)"
   ]
  },
  {
   "cell_type": "code",
   "execution_count": 564,
   "metadata": {},
   "outputs": [],
   "source": [
    "seller_1=driver.find_elements_by_xpath(\"//table[@id='summtable']/tbody/tr/td[2]\")"
   ]
  },
  {
   "cell_type": "code",
   "execution_count": 565,
   "metadata": {},
   "outputs": [],
   "source": [
    "seller=[]\n",
    "for i in seller_1:\n",
    "    seller.append(i.text)"
   ]
  },
  {
   "cell_type": "markdown",
   "metadata": {},
   "source": [
    "## Checking Length"
   ]
  },
  {
   "cell_type": "code",
   "execution_count": 567,
   "metadata": {},
   "outputs": [
    {
     "name": "stdout",
     "output_type": "stream",
     "text": [
      "10 10 10 10 10 10 10 10 10\n"
     ]
    }
   ],
   "source": [
    "print(len(os),len(disp),len(pro),len(mem),len(weight),len(dimen),len(graph),len(price),len(seller))"
   ]
  },
  {
   "cell_type": "markdown",
   "metadata": {},
   "source": [
    "## Creating Dataframe"
   ]
  },
  {
   "cell_type": "code",
   "execution_count": 568,
   "metadata": {},
   "outputs": [
    {
     "data": {
      "text/html": [
       "<div>\n",
       "<style scoped>\n",
       "    .dataframe tbody tr th:only-of-type {\n",
       "        vertical-align: middle;\n",
       "    }\n",
       "\n",
       "    .dataframe tbody tr th {\n",
       "        vertical-align: top;\n",
       "    }\n",
       "\n",
       "    .dataframe thead th {\n",
       "        text-align: right;\n",
       "    }\n",
       "</style>\n",
       "<table border=\"1\" class=\"dataframe\">\n",
       "  <thead>\n",
       "    <tr style=\"text-align: right;\">\n",
       "      <th></th>\n",
       "      <th>OS</th>\n",
       "      <th>Display</th>\n",
       "      <th>Processor</th>\n",
       "      <th>Memory</th>\n",
       "      <th>Weight</th>\n",
       "      <th>Dimension</th>\n",
       "      <th>Graphic Processor</th>\n",
       "      <th>Price</th>\n",
       "      <th>Seller</th>\n",
       "    </tr>\n",
       "  </thead>\n",
       "  <tbody>\n",
       "    <tr>\n",
       "      <th>0</th>\n",
       "      <td>Windows 10 Pro</td>\n",
       "      <td>17.3\" (UHD 3840x2160)</td>\n",
       "      <td>Intel 9th Gen Core i9-9900K | 5000 MHz</td>\n",
       "      <td>1 TB HDD/64 GBGB DDR4</td>\n",
       "      <td>4.2 kg</td>\n",
       "      <td>397 x 330 x 33~42 mm</td>\n",
       "      <td>NVIDIA GeForce RTX 2080</td>\n",
       "      <td>₹379990</td>\n",
       "      <td>N/A</td>\n",
       "    </tr>\n",
       "    <tr>\n",
       "      <th>1</th>\n",
       "      <td>Windows 10 Pro</td>\n",
       "      <td>17.3\" (FHD (1920 x 1080))</td>\n",
       "      <td>Intel 9th Gen Core i9-9900K | 5000 MHz</td>\n",
       "      <td>1 TB PCIe SSD/32GB DDR4</td>\n",
       "      <td>3.87 Kg</td>\n",
       "      <td>42 mm x 402.6 mm x 319.14 mm</td>\n",
       "      <td>NVIDIA GeForce RTX 2080</td>\n",
       "      <td>₹489909</td>\n",
       "      <td>amazon</td>\n",
       "    </tr>\n",
       "    <tr>\n",
       "      <th>2</th>\n",
       "      <td>Windows 10 Home</td>\n",
       "      <td>15.6\" (1920 x 1080)</td>\n",
       "      <td>Intel i7-10750H 10th Gen | 1.6GHz</td>\n",
       "      <td>512 GB SSD/16 GBGB DDR4</td>\n",
       "      <td>5.40</td>\n",
       "      <td>14.09 x 9.44 x 0.89</td>\n",
       "      <td>Nvidia GeForce GTX 1650Ti</td>\n",
       "      <td>₹114990</td>\n",
       "      <td>amazon</td>\n",
       "    </tr>\n",
       "    <tr>\n",
       "      <th>3</th>\n",
       "      <td>Windows 10 Home</td>\n",
       "      <td>14\" (1920 x 1080)</td>\n",
       "      <td>AMD 3rd Generation Ryzen 9 | 3.3 GHz</td>\n",
       "      <td>1 TB SSD/16 GBGB DDR4</td>\n",
       "      <td>1.65</td>\n",
       "      <td>32.5 x 22.1 x 1.8</td>\n",
       "      <td>NVIDIA GeForce RTX 2060</td>\n",
       "      <td>₹164990</td>\n",
       "      <td>amazon</td>\n",
       "    </tr>\n",
       "    <tr>\n",
       "      <th>4</th>\n",
       "      <td>Windows 10 Home</td>\n",
       "      <td>15.6\" (1920 X 1080)</td>\n",
       "      <td>9th Generation Core Intel I7-9750H | 2.6 Ghz</td>\n",
       "      <td>1 TB SSD/8GB DDR4</td>\n",
       "      <td>2.3</td>\n",
       "      <td>365mm x 260mm x 25.9mm</td>\n",
       "      <td>NVIDIA® GeForce RTX™ 2060</td>\n",
       "      <td>₹79990</td>\n",
       "      <td>flipkart</td>\n",
       "    </tr>\n",
       "    <tr>\n",
       "      <th>5</th>\n",
       "      <td>Windows 10 Home</td>\n",
       "      <td>15.6\" (1920 x 1080)</td>\n",
       "      <td>AMD Ryzen 7 Quad Core 3750H | 2.3 GHz</td>\n",
       "      <td>512 GB SSD/16GB DDR4</td>\n",
       "      <td>2.2</td>\n",
       "      <td>360 x 252 x 20.4</td>\n",
       "      <td>NVIDIA Geforce GTX 1660 Ti</td>\n",
       "      <td>₹79990</td>\n",
       "      <td>flipkart</td>\n",
       "    </tr>\n",
       "    <tr>\n",
       "      <th>6</th>\n",
       "      <td>Windows 10 Home</td>\n",
       "      <td>15.6\" (1920 X 1080)</td>\n",
       "      <td>9th Gen Intel Core i7-8750H | 2.2 GHz</td>\n",
       "      <td>512GB SSD/16 GBGB DDR4</td>\n",
       "      <td>2.1</td>\n",
       "      <td>360 (W) x 268 (D) x 15.35~16.15 (H) mm</td>\n",
       "      <td>NVIDIA® GeForce RTX™ 2070 (Max-Q)</td>\n",
       "      <td>₹146000</td>\n",
       "      <td>amazon</td>\n",
       "    </tr>\n",
       "    <tr>\n",
       "      <th>7</th>\n",
       "      <td>Windows 10 Home 64 bit</td>\n",
       "      <td>18.4\" (1920 x 1080)</td>\n",
       "      <td>Intel CM238 Core i7-7820HK+CM238 7th Gen | 3.5GHz</td>\n",
       "      <td>1.5 TB SATA/64GB DDR4</td>\n",
       "      <td>5.5</td>\n",
       "      <td>458 x 339 x 69</td>\n",
       "      <td>Dual GTX1070</td>\n",
       "      <td>₹349990</td>\n",
       "      <td>N/A</td>\n",
       "    </tr>\n",
       "    <tr>\n",
       "      <th>8</th>\n",
       "      <td>Windows 10</td>\n",
       "      <td>15.6\" (3840 x 1100)</td>\n",
       "      <td>Intel Core i7 10th Gen 10875H | NA</td>\n",
       "      <td>512 GB SSD/4 GBGB DDR4</td>\n",
       "      <td>2.4</td>\n",
       "      <td>268.30 x 360.00 x 20.90</td>\n",
       "      <td>NVIDIA GeForce RTX 2070 Max-Q</td>\n",
       "      <td>₹259990</td>\n",
       "      <td>amazon</td>\n",
       "    </tr>\n",
       "    <tr>\n",
       "      <th>9</th>\n",
       "      <td>Windows 10 Home Plus</td>\n",
       "      <td>15.6 MP | NA</td>\n",
       "      <td>8th Generation Intel® Core™ i7-8750H | NA</td>\n",
       "      <td>256 + 1 TB SSD + SATA/16GB DDR4</td>\n",
       "      <td>2.53</td>\n",
       "      <td>22.7 X 380 X 258</td>\n",
       "      <td>NVIDIA® GeForce® GTX</td>\n",
       "      <td>₹61990</td>\n",
       "      <td>amazon</td>\n",
       "    </tr>\n",
       "  </tbody>\n",
       "</table>\n",
       "</div>"
      ],
      "text/plain": [
       "                       OS                    Display  \\\n",
       "0          Windows 10 Pro      17.3\" (UHD 3840x2160)   \n",
       "1          Windows 10 Pro  17.3\" (FHD (1920 x 1080))   \n",
       "2         Windows 10 Home        15.6\" (1920 x 1080)   \n",
       "3         Windows 10 Home          14\" (1920 x 1080)   \n",
       "4         Windows 10 Home        15.6\" (1920 X 1080)   \n",
       "5         Windows 10 Home        15.6\" (1920 x 1080)   \n",
       "6         Windows 10 Home        15.6\" (1920 X 1080)   \n",
       "7  Windows 10 Home 64 bit        18.4\" (1920 x 1080)   \n",
       "8              Windows 10        15.6\" (3840 x 1100)   \n",
       "9    Windows 10 Home Plus               15.6 MP | NA   \n",
       "\n",
       "                                           Processor  \\\n",
       "0             Intel 9th Gen Core i9-9900K | 5000 MHz   \n",
       "1             Intel 9th Gen Core i9-9900K | 5000 MHz   \n",
       "2                  Intel i7-10750H 10th Gen | 1.6GHz   \n",
       "3               AMD 3rd Generation Ryzen 9 | 3.3 GHz   \n",
       "4       9th Generation Core Intel I7-9750H | 2.6 Ghz   \n",
       "5              AMD Ryzen 7 Quad Core 3750H | 2.3 GHz   \n",
       "6              9th Gen Intel Core i7-8750H | 2.2 GHz   \n",
       "7  Intel CM238 Core i7-7820HK+CM238 7th Gen | 3.5GHz   \n",
       "8                 Intel Core i7 10th Gen 10875H | NA   \n",
       "9          8th Generation Intel® Core™ i7-8750H | NA   \n",
       "\n",
       "                            Memory   Weight  \\\n",
       "0            1 TB HDD/64 GBGB DDR4   4.2 kg   \n",
       "1          1 TB PCIe SSD/32GB DDR4  3.87 Kg   \n",
       "2          512 GB SSD/16 GBGB DDR4     5.40   \n",
       "3            1 TB SSD/16 GBGB DDR4     1.65   \n",
       "4                1 TB SSD/8GB DDR4      2.3   \n",
       "5             512 GB SSD/16GB DDR4      2.2   \n",
       "6           512GB SSD/16 GBGB DDR4      2.1   \n",
       "7            1.5 TB SATA/64GB DDR4      5.5   \n",
       "8           512 GB SSD/4 GBGB DDR4      2.4   \n",
       "9  256 + 1 TB SSD + SATA/16GB DDR4     2.53   \n",
       "\n",
       "                                Dimension                  Graphic Processor  \\\n",
       "0                    397 x 330 x 33~42 mm            NVIDIA GeForce RTX 2080   \n",
       "1            42 mm x 402.6 mm x 319.14 mm            NVIDIA GeForce RTX 2080   \n",
       "2                     14.09 x 9.44 x 0.89          Nvidia GeForce GTX 1650Ti   \n",
       "3                       32.5 x 22.1 x 1.8            NVIDIA GeForce RTX 2060   \n",
       "4                  365mm x 260mm x 25.9mm          NVIDIA® GeForce RTX™ 2060   \n",
       "5                        360 x 252 x 20.4         NVIDIA Geforce GTX 1660 Ti   \n",
       "6  360 (W) x 268 (D) x 15.35~16.15 (H) mm  NVIDIA® GeForce RTX™ 2070 (Max-Q)   \n",
       "7                          458 x 339 x 69                       Dual GTX1070   \n",
       "8                 268.30 x 360.00 x 20.90      NVIDIA GeForce RTX 2070 Max-Q   \n",
       "9                        22.7 X 380 X 258               NVIDIA® GeForce® GTX   \n",
       "\n",
       "     Price    Seller  \n",
       "0  ₹379990       N/A  \n",
       "1  ₹489909    amazon  \n",
       "2  ₹114990    amazon  \n",
       "3  ₹164990    amazon  \n",
       "4   ₹79990  flipkart  \n",
       "5   ₹79990  flipkart  \n",
       "6  ₹146000    amazon  \n",
       "7  ₹349990       N/A  \n",
       "8  ₹259990    amazon  \n",
       "9   ₹61990    amazon  "
      ]
     },
     "execution_count": 568,
     "metadata": {},
     "output_type": "execute_result"
    }
   ],
   "source": [
    "table=pd.DataFrame({})\n",
    "table['OS']=os[:]\n",
    "table['Display']=disp[:]\n",
    "table['Processor']=pro[:]\n",
    "table['Memory']=mem[:]\n",
    "table['Weight']=weight[:]\n",
    "table[\"Dimension\"]=dimen[:]\n",
    "table['Graphic Processor']=graph[:]\n",
    "table['Price']=price[:]\n",
    "table['Seller']=seller[:]\n",
    "table"
   ]
  },
  {
   "cell_type": "code",
   "execution_count": null,
   "metadata": {},
   "outputs": [],
   "source": []
  }
 ],
 "metadata": {
  "kernelspec": {
   "display_name": "Python 3",
   "language": "python",
   "name": "python3"
  },
  "language_info": {
   "codemirror_mode": {
    "name": "ipython",
    "version": 3
   },
   "file_extension": ".py",
   "mimetype": "text/x-python",
   "name": "python",
   "nbconvert_exporter": "python",
   "pygments_lexer": "ipython3",
   "version": "3.8.5"
  }
 },
 "nbformat": 4,
 "nbformat_minor": 4
}
